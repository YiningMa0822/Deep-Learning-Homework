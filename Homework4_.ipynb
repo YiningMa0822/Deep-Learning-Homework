{
  "metadata": {
    "kernelspec": {
      "language": "python",
      "display_name": "Python 3",
      "name": "python3"
    },
    "language_info": {
      "name": "python",
      "version": "3.7.12",
      "mimetype": "text/x-python",
      "codemirror_mode": {
        "name": "ipython",
        "version": 3
      },
      "pygments_lexer": "ipython3",
      "nbconvert_exporter": "python",
      "file_extension": ".py"
    },
    "colab": {
      "name": "Homework4 .ipynb",
      "provenance": [],
      "collapsed_sections": [],
      "include_colab_link": true
    },
    "accelerator": "GPU"
  },
  "nbformat_minor": 0,
  "nbformat": 4,
  "cells": [
    {
      "cell_type": "markdown",
      "metadata": {
        "id": "view-in-github",
        "colab_type": "text"
      },
      "source": [
        "<a href=\"https://colab.research.google.com/github/YiningMa0822/Deep-Learning-Homework/blob/main/Homework4_.ipynb\" target=\"_parent\"><img src=\"https://colab.research.google.com/assets/colab-badge.svg\" alt=\"Open In Colab\"/></a>"
      ]
    },
    {
      "cell_type": "markdown",
      "source": [
        "# Deep Learning- Homework 4\n",
        "### 马艺宁 2019141210086 2022/04/07"
      ],
      "metadata": {
        "id": "p9LL6Uz8_zy0"
      }
    },
    {
      "cell_type": "markdown",
      "source": [
        "首先，我们导入原始数据。"
      ],
      "metadata": {
        "id": "IcH59mmG__Wh"
      }
    },
    {
      "cell_type": "code",
      "source": [
        "# This Python 3 environment comes with many helpful analytics libraries installed\n",
        "# It is defined by the kaggle/python Docker image: https://github.com/kaggle/docker-python\n",
        "# For example, here's several helpful packages to load\n",
        "\n",
        "import numpy as np # linear algebra\n",
        "import pandas as pd # data processing, CSV file I/O (e.g. pd.read_csv)\n",
        "\n",
        "# Input data files are available in the read-only \"../input/\" directory\n",
        "# For example, running this (by clicking run or pressing Shift+Enter) will list all files under the input directory\n",
        "\n",
        "import os\n",
        "for dirname, _, filenames in os.walk('/kaggle/input'):\n",
        "    for filename in filenames:\n",
        "        print(os.path.join(dirname, filename))\n",
        "\n",
        "# You can write up to 20GB to the current directory (/kaggle/working/) that gets preserved as output when you create a version using \"Save & Run All\" \n",
        "# You can also write temporary files to /kaggle/temp/, but they won't be saved outside of the current session"
      ],
      "metadata": {
        "_uuid": "8f2839f25d086af736a60e9eeb907d3b93b6e0e5",
        "_cell_guid": "b1076dfc-b9ad-4769-8c92-a6c4dae69d19",
        "execution": {
          "iopub.status.busy": "2022-04-07T02:15:57.023366Z",
          "iopub.execute_input": "2022-04-07T02:15:57.023757Z",
          "iopub.status.idle": "2022-04-07T02:15:57.054342Z",
          "shell.execute_reply.started": "2022-04-07T02:15:57.023640Z",
          "shell.execute_reply": "2022-04-07T02:15:57.053675Z"
        },
        "trusted": true,
        "id": "5mv0afxYtkiU"
      },
      "execution_count": null,
      "outputs": []
    },
    {
      "cell_type": "code",
      "source": [
        "import pandas as pd\n",
        "import numpy as np\n",
        "import matplotlib.pyplot as plt\n",
        "import sklearn \n",
        "from sklearn.datasets import fetch_openml\n",
        "from sklearn.model_selection import train_test_split\n",
        "from sklearn.preprocessing import OneHotEncoder\n",
        "import torch\n",
        "import torch.nn as nn\n",
        "import scipy\n",
        "from torch import optim as op"
      ],
      "metadata": {
        "execution": {
          "iopub.status.busy": "2022-04-07T02:15:58.366437Z",
          "iopub.execute_input": "2022-04-07T02:15:58.366713Z",
          "iopub.status.idle": "2022-04-07T02:16:00.891085Z",
          "shell.execute_reply.started": "2022-04-07T02:15:58.366681Z",
          "shell.execute_reply": "2022-04-07T02:16:00.890353Z"
        },
        "trusted": true,
        "id": "XIMoodqKtkiY"
      },
      "execution_count": null,
      "outputs": []
    },
    {
      "cell_type": "code",
      "source": [
        "X, y = fetch_openml('mnist_784', version=1, return_X_y=True, as_frame=False)"
      ],
      "metadata": {
        "execution": {
          "iopub.status.busy": "2022-04-07T02:16:02.291245Z",
          "iopub.execute_input": "2022-04-07T02:16:02.291747Z",
          "iopub.status.idle": "2022-04-07T02:16:44.797331Z",
          "shell.execute_reply.started": "2022-04-07T02:16:02.291711Z",
          "shell.execute_reply": "2022-04-07T02:16:44.796493Z"
        },
        "trusted": true,
        "id": "ghLFZFhAtkiZ"
      },
      "execution_count": null,
      "outputs": []
    },
    {
      "cell_type": "code",
      "source": [
        "y = y.astype('int64')"
      ],
      "metadata": {
        "execution": {
          "iopub.status.busy": "2022-04-07T02:16:44.799392Z",
          "iopub.execute_input": "2022-04-07T02:16:44.799712Z",
          "iopub.status.idle": "2022-04-07T02:16:44.812124Z",
          "shell.execute_reply.started": "2022-04-07T02:16:44.799670Z",
          "shell.execute_reply": "2022-04-07T02:16:44.810981Z"
        },
        "trusted": true,
        "id": "Rzz0DbKwtkiZ"
      },
      "execution_count": null,
      "outputs": []
    },
    {
      "cell_type": "code",
      "source": [
        "X_train, X_test, y_train, y_test = train_test_split(X, y, test_size = 0.2, random_state=42)"
      ],
      "metadata": {
        "execution": {
          "iopub.status.busy": "2022-04-07T02:16:44.813696Z",
          "iopub.execute_input": "2022-04-07T02:16:44.814212Z",
          "iopub.status.idle": "2022-04-07T02:16:45.447098Z",
          "shell.execute_reply.started": "2022-04-07T02:16:44.814173Z",
          "shell.execute_reply": "2022-04-07T02:16:45.446341Z"
        },
        "trusted": true,
        "id": "8mMhHTv5tkia"
      },
      "execution_count": null,
      "outputs": []
    },
    {
      "cell_type": "code",
      "source": [
        "x_train = torch.tensor(X_train, dtype=torch.float32)\n",
        "y_train = torch.tensor(y_train, dtype=torch.int64)\n",
        "x_test = torch.tensor(X_test, dtype=torch.float32)\n",
        "y_test = torch.tensor(y_test, dtype=torch.int64)"
      ],
      "metadata": {
        "execution": {
          "iopub.status.busy": "2022-04-07T02:16:45.449095Z",
          "iopub.execute_input": "2022-04-07T02:16:45.449336Z",
          "iopub.status.idle": "2022-04-07T02:16:45.611956Z",
          "shell.execute_reply.started": "2022-04-07T02:16:45.449303Z",
          "shell.execute_reply": "2022-04-07T02:16:45.611217Z"
        },
        "trusted": true,
        "id": "xrcGej2ktkia"
      },
      "execution_count": null,
      "outputs": []
    },
    {
      "cell_type": "code",
      "source": [
        "y_train.shape"
      ],
      "metadata": {
        "execution": {
          "iopub.status.busy": "2022-04-07T02:16:45.621989Z",
          "iopub.execute_input": "2022-04-07T02:16:45.622431Z",
          "iopub.status.idle": "2022-04-07T02:16:45.629804Z",
          "shell.execute_reply.started": "2022-04-07T02:16:45.622394Z",
          "shell.execute_reply": "2022-04-07T02:16:45.629147Z"
        },
        "trusted": true,
        "colab": {
          "base_uri": "https://localhost:8080/"
        },
        "id": "kc8qr_smtkib",
        "outputId": "2d8e2989-b3f8-429b-a018-fdf9c836247e"
      },
      "execution_count": null,
      "outputs": [
        {
          "output_type": "execute_result",
          "data": {
            "text/plain": [
              "torch.Size([56000])"
            ]
          },
          "metadata": {},
          "execution_count": 8
        }
      ]
    },
    {
      "cell_type": "code",
      "source": [
        "x_train = x_train.to('cuda:0')\n",
        "y_train = y_train.to('cuda:0')\n",
        "x_test = x_test.to('cuda:0')\n",
        "y_test = y_test.to('cuda:0')"
      ],
      "metadata": {
        "execution": {
          "iopub.status.busy": "2022-04-07T02:16:45.648583Z",
          "iopub.execute_input": "2022-04-07T02:16:45.649184Z",
          "iopub.status.idle": "2022-04-07T02:16:49.016735Z",
          "shell.execute_reply.started": "2022-04-07T02:16:45.649145Z",
          "shell.execute_reply": "2022-04-07T02:16:49.015987Z"
        },
        "trusted": true,
        "id": "qWIHhMqLtkid"
      },
      "execution_count": null,
      "outputs": []
    },
    {
      "cell_type": "markdown",
      "source": [
        "当神经网络隐藏层为一层时，我们运用每个优化器分别训练。"
      ],
      "metadata": {
        "id": "8G1JJXkItkie"
      }
    },
    {
      "cell_type": "code",
      "source": [
        "# build the model\n",
        "# layer = 1\n",
        "class Net_1(nn.Module):\n",
        "    def __init__(self):\n",
        "        super(Net_1, self).__init__()\n",
        "        self.fc1 = nn.Linear(28*28, 500)\n",
        "        self.fc3 = nn.Linear(500, 10)\n",
        "        self.Relu = nn.ReLU()\n",
        "        # self.softmax = nn.Softmax(dim=1)\n",
        "    def forward(self, x):\n",
        "        # flatten image input\n",
        "        x = x.view(-1, 28 * 28)\n",
        "        out = self.fc1(x)\n",
        "        out = self.Relu(out)\n",
        "        out = self.fc3(out)\n",
        "        # out = self.softmax(out)\n",
        "\n",
        "        return out\n",
        "\n",
        "# initialize the NN\n",
        "model = Net_1()\n",
        "print(model)\n",
        "\n",
        "model = model.to('cuda:0')"
      ],
      "metadata": {
        "execution": {
          "iopub.status.busy": "2022-04-07T03:36:58.386278Z",
          "iopub.execute_input": "2022-04-07T03:36:58.386540Z",
          "iopub.status.idle": "2022-04-07T03:36:58.392504Z",
          "shell.execute_reply.started": "2022-04-07T03:36:58.386507Z",
          "shell.execute_reply": "2022-04-07T03:36:58.391714Z"
        },
        "trusted": true,
        "id": "XBrwHgKrtkie",
        "colab": {
          "base_uri": "https://localhost:8080/"
        },
        "outputId": "ca23ba88-42e4-4de0-9bef-61e36b8bdc89"
      },
      "execution_count": null,
      "outputs": [
        {
          "output_type": "stream",
          "name": "stdout",
          "text": [
            "Net_1(\n",
            "  (fc1): Linear(in_features=784, out_features=500, bias=True)\n",
            "  (fc3): Linear(in_features=500, out_features=10, bias=True)\n",
            "  (Relu): ReLU()\n",
            ")\n"
          ]
        }
      ]
    },
    {
      "cell_type": "code",
      "source": [
        "## Specify loss and optimization functions\n",
        "criterion = nn.CrossEntropyLoss()       #Cross Entropy Loss\n",
        "\n",
        "SGD = op.SGD(model.parameters(), lr=1e-2)\n",
        "SGD_M = op.SGD(model.parameters(),momentum=0.9, lr=1e-2)\n",
        "RMSprop = op.RMSprop(model.parameters(), lr=1e-3)\n",
        "Adam = op.Adam(model.parameters(), lr=1e-3)\n",
        "optimizers = [SGD, SGD_M, RMSprop, Adam]"
      ],
      "metadata": {
        "id": "70kWQ86hwxDu"
      },
      "execution_count": null,
      "outputs": []
    },
    {
      "cell_type": "code",
      "source": [
        "n_epochs = 2000\n",
        "train_list_1 = []\n",
        "loss_list_1 = []\n",
        "acc_list_1 = []\n",
        "\n",
        "\n",
        "for optimizer in optimizers:\n",
        "  \n",
        "  for epoch in range(n_epochs):\n",
        "      model.train()  # prep model for training\n",
        "\n",
        "      optimizer.zero_grad()\n",
        "      output = model(x_train)\n",
        "      loss = criterion(output, y_train)\n",
        "      \n",
        "      loss.backward()\n",
        "      optimizer.step()\n",
        "\n",
        "\n",
        "      # prep model for *evaluation*\n",
        "      if (epoch+1)%400 == 0:\n",
        "        model.eval()\n",
        "\n",
        "        train_out= model(x_train)\n",
        "        loss_train = criterion(train_out, y_train)\n",
        "\n",
        "        test_out = model(x_test)\n",
        "        loss_test = criterion(test_out, y_test)\n",
        "        acc_test = np.mean((torch.max(test_out,1)[1]==y_test).cpu().numpy())\n",
        "        print('Epoch: {} \\tTraining Loss: {:.6f} \\tTest accuracy: {:.6f} \\tAverage Test Loss: {:.6f}' .format(\n",
        "            epoch + 1,\n",
        "            loss_train, acc_test, loss_test\n",
        "        ))\n",
        "\n",
        "  train_list_1.append(loss_train)\n",
        "  loss_list_1.append(loss_test)\n",
        "  acc_list_1.append(acc_test)"
      ],
      "metadata": {
        "execution": {
          "iopub.status.busy": "2022-04-07T03:37:00.691500Z",
          "iopub.execute_input": "2022-04-07T03:37:00.692190Z",
          "iopub.status.idle": "2022-04-07T03:37:37.441808Z",
          "shell.execute_reply.started": "2022-04-07T03:37:00.692153Z",
          "shell.execute_reply": "2022-04-07T03:37:37.439703Z"
        },
        "trusted": true,
        "colab": {
          "base_uri": "https://localhost:8080/"
        },
        "id": "8yhAB_WQtkif",
        "outputId": "c4608b43-9474-4d3d-83b8-7b07c46f673f"
      },
      "execution_count": null,
      "outputs": [
        {
          "output_type": "stream",
          "name": "stdout",
          "text": [
            "Epoch: 400 \tTraining Loss: 0.192003 \tTest accuracy: 0.927357 \tAverage Test Loss: 0.272919\n",
            "Epoch: 800 \tTraining Loss: 0.131268 \tTest accuracy: 0.943429 \tAverage Test Loss: 0.228764\n",
            "Epoch: 1200 \tTraining Loss: 0.103920 \tTest accuracy: 0.948643 \tAverage Test Loss: 0.219116\n",
            "Epoch: 1600 \tTraining Loss: 0.086633 \tTest accuracy: 0.952286 \tAverage Test Loss: 0.219195\n",
            "Epoch: 2000 \tTraining Loss: 0.075556 \tTest accuracy: 0.953571 \tAverage Test Loss: 0.221874\n",
            "Epoch: 400 \tTraining Loss: 0.028971 \tTest accuracy: 0.954714 \tAverage Test Loss: 0.278775\n",
            "Epoch: 800 \tTraining Loss: 0.013698 \tTest accuracy: 0.954714 \tAverage Test Loss: 0.350033\n",
            "Epoch: 1200 \tTraining Loss: 0.006919 \tTest accuracy: 0.953786 \tAverage Test Loss: 0.416094\n",
            "Epoch: 1600 \tTraining Loss: 0.004145 \tTest accuracy: 0.953071 \tAverage Test Loss: 0.467227\n",
            "Epoch: 2000 \tTraining Loss: 0.002722 \tTest accuracy: 0.953214 \tAverage Test Loss: 0.506895\n",
            "Epoch: 400 \tTraining Loss: 0.263798 \tTest accuracy: 0.940214 \tAverage Test Loss: 0.597780\n",
            "Epoch: 800 \tTraining Loss: 0.017400 \tTest accuracy: 0.955786 \tAverage Test Loss: 0.472284\n",
            "Epoch: 1200 \tTraining Loss: 0.008481 \tTest accuracy: 0.958714 \tAverage Test Loss: 0.484695\n",
            "Epoch: 1600 \tTraining Loss: 0.004851 \tTest accuracy: 0.959357 \tAverage Test Loss: 0.501557\n",
            "Epoch: 2000 \tTraining Loss: 0.002668 \tTest accuracy: 0.961571 \tAverage Test Loss: 0.554688\n",
            "Epoch: 400 \tTraining Loss: 0.000580 \tTest accuracy: 0.960786 \tAverage Test Loss: 0.673146\n",
            "Epoch: 800 \tTraining Loss: 0.000432 \tTest accuracy: 0.959429 \tAverage Test Loss: 0.730491\n",
            "Epoch: 1200 \tTraining Loss: 0.000305 \tTest accuracy: 0.959571 \tAverage Test Loss: 0.781934\n",
            "Epoch: 1600 \tTraining Loss: 0.000203 \tTest accuracy: 0.959786 \tAverage Test Loss: 0.822943\n",
            "Epoch: 2000 \tTraining Loss: 0.000180 \tTest accuracy: 0.960500 \tAverage Test Loss: 0.849113\n"
          ]
        }
      ]
    },
    {
      "cell_type": "markdown",
      "source": [
        "同理，当神经网络隐藏层为两层时："
      ],
      "metadata": {
        "id": "0LUt61BOtkif"
      }
    },
    {
      "cell_type": "code",
      "source": [
        "# build the model\n",
        "# layer = 2\n",
        "class Net_2(nn.Module):\n",
        "    def __init__(self):\n",
        "        super(Net_2, self).__init__()\n",
        "        self.fc1 = nn.Linear(28*28, 500)\n",
        "        self.fc2 = nn.Linear(500, 500)\n",
        "        self.fc3 = nn.Linear(500, 10)\n",
        "        self.Relu = nn.ReLU()\n",
        "        # self.softmax = nn.Softmax(dim=1)\n",
        "    def forward(self, x):\n",
        "        # flatten image input\n",
        "        x = x.view(-1, 28 * 28)\n",
        "        out = self.fc1(x)\n",
        "        out = self.Relu(out) # 1\n",
        "        out = self.fc2(out)\n",
        "        out = self.Relu(out) # 2\n",
        "        out = self.fc3(out)\n",
        "        # out = self.softmax(out)\n",
        "\n",
        "        return out\n",
        "\n",
        "# initialize the NN\n",
        "model = Net_2()\n",
        "print(model)\n",
        "\n",
        "model = model.to('cuda:0')"
      ],
      "metadata": {
        "execution": {
          "iopub.status.busy": "2022-04-07T03:37:37.443581Z",
          "iopub.execute_input": "2022-04-07T03:37:37.443925Z",
          "iopub.status.idle": "2022-04-07T03:37:37.451744Z",
          "shell.execute_reply.started": "2022-04-07T03:37:37.443887Z",
          "shell.execute_reply": "2022-04-07T03:37:37.450963Z"
        },
        "trusted": true,
        "id": "ewScHwC-tkig",
        "colab": {
          "base_uri": "https://localhost:8080/"
        },
        "outputId": "6066f11f-8963-4998-dd98-a639f11d8461"
      },
      "execution_count": null,
      "outputs": [
        {
          "output_type": "stream",
          "name": "stdout",
          "text": [
            "Net_2(\n",
            "  (fc1): Linear(in_features=784, out_features=500, bias=True)\n",
            "  (fc2): Linear(in_features=500, out_features=500, bias=True)\n",
            "  (fc3): Linear(in_features=500, out_features=10, bias=True)\n",
            "  (Relu): ReLU()\n",
            ")\n"
          ]
        }
      ]
    },
    {
      "cell_type": "code",
      "source": [
        "## Specify loss and optimization functions\n",
        "criterion = nn.CrossEntropyLoss()       #Cross Entropy Loss\n",
        "\n",
        "SGD = op.SGD(model.parameters(), lr=1e-2)\n",
        "SGD_M = op.SGD(model.parameters(),momentum=0.9, lr=1e-2)\n",
        "RMSprop = op.RMSprop(model.parameters(), lr=1e-3)\n",
        "Adam = op.Adam(model.parameters(), lr=1e-3)\n",
        "optimizers = [SGD, SGD_M, RMSprop, Adam]"
      ],
      "metadata": {
        "id": "rBMuwTCi1du8"
      },
      "execution_count": null,
      "outputs": []
    },
    {
      "cell_type": "code",
      "source": [
        "n_epochs = 2000\n",
        "train_list_2 = []\n",
        "loss_list_2 = []\n",
        "acc_list_2 = []\n",
        "\n",
        "\n",
        "for optimizer in optimizers:\n",
        "  \n",
        "  for epoch in range(n_epochs):\n",
        "      model.train()  # prep model for training\n",
        "\n",
        "      optimizer.zero_grad()\n",
        "      output = model(x_train)\n",
        "      loss = criterion(output, y_train)\n",
        "      \n",
        "      loss.backward()\n",
        "      optimizer.step()\n",
        "\n",
        "\n",
        "      # prep model for *evaluation*\n",
        "      if (epoch+1)%400 == 0:\n",
        "        model.eval()\n",
        "\n",
        "        train_out= model(x_train)\n",
        "        loss_train = criterion(train_out, y_train)\n",
        "\n",
        "        test_out = model(x_test)\n",
        "        loss_test = criterion(test_out, y_test)\n",
        "        acc_test = np.mean((torch.max(test_out,1)[1]==y_test).cpu().numpy())\n",
        "        print('Epoch: {} \\tTraining Loss: {:.6f} \\tTest accuracy: {:.6f} \\tAverage Test Loss: {:.6f}' .format(\n",
        "            epoch + 1,\n",
        "            loss_train, acc_test, loss_test\n",
        "        ))\n",
        "\n",
        "  train_list_2.append(loss_train)\n",
        "  loss_list_2.append(loss_test)\n",
        "  acc_list_2.append(acc_test)"
      ],
      "metadata": {
        "colab": {
          "base_uri": "https://localhost:8080/"
        },
        "id": "m-DYouQF1hRF",
        "outputId": "217f1286-7a32-427c-c858-8d14a8e04bed"
      },
      "execution_count": null,
      "outputs": [
        {
          "output_type": "stream",
          "name": "stdout",
          "text": [
            "Epoch: 400 \tTraining Loss: 0.116445 \tTest accuracy: 0.948714 \tAverage Test Loss: 0.176028\n",
            "Epoch: 800 \tTraining Loss: 0.062970 \tTest accuracy: 0.958714 \tAverage Test Loss: 0.147411\n",
            "Epoch: 1200 \tTraining Loss: 0.039648 \tTest accuracy: 0.962357 \tAverage Test Loss: 0.140674\n",
            "Epoch: 1600 \tTraining Loss: 0.027134 \tTest accuracy: 0.963071 \tAverage Test Loss: 0.139894\n",
            "Epoch: 2000 \tTraining Loss: 0.019500 \tTest accuracy: 0.964500 \tAverage Test Loss: 0.142073\n",
            "Epoch: 400 \tTraining Loss: 0.002408 \tTest accuracy: 0.966714 \tAverage Test Loss: 0.169776\n",
            "Epoch: 800 \tTraining Loss: 0.000936 \tTest accuracy: 0.967714 \tAverage Test Loss: 0.185645\n",
            "Epoch: 1200 \tTraining Loss: 0.000544 \tTest accuracy: 0.967786 \tAverage Test Loss: 0.195293\n",
            "Epoch: 1600 \tTraining Loss: 0.000372 \tTest accuracy: 0.967571 \tAverage Test Loss: 0.202040\n",
            "Epoch: 2000 \tTraining Loss: 0.000278 \tTest accuracy: 0.967714 \tAverage Test Loss: 0.207298\n",
            "Epoch: 400 \tTraining Loss: 0.008789 \tTest accuracy: 0.966357 \tAverage Test Loss: 0.232247\n",
            "Epoch: 800 \tTraining Loss: 0.000235 \tTest accuracy: 0.969571 \tAverage Test Loss: 0.267904\n",
            "Epoch: 1200 \tTraining Loss: 0.000021 \tTest accuracy: 0.970929 \tAverage Test Loss: 0.300703\n",
            "Epoch: 1600 \tTraining Loss: 0.000002 \tTest accuracy: 0.971000 \tAverage Test Loss: 0.336010\n",
            "Epoch: 2000 \tTraining Loss: 0.000000 \tTest accuracy: 0.971500 \tAverage Test Loss: 0.372230\n",
            "Epoch: 400 \tTraining Loss: 0.000002 \tTest accuracy: 0.973000 \tAverage Test Loss: 0.375458\n",
            "Epoch: 800 \tTraining Loss: 0.000001 \tTest accuracy: 0.973000 \tAverage Test Loss: 0.392885\n",
            "Epoch: 1200 \tTraining Loss: 0.000001 \tTest accuracy: 0.973071 \tAverage Test Loss: 0.404696\n",
            "Epoch: 1600 \tTraining Loss: 0.000000 \tTest accuracy: 0.972714 \tAverage Test Loss: 0.414283\n",
            "Epoch: 2000 \tTraining Loss: 0.000000 \tTest accuracy: 0.972786 \tAverage Test Loss: 0.419988\n"
          ]
        }
      ]
    },
    {
      "cell_type": "markdown",
      "source": [
        "当神经网络隐藏层为三层时："
      ],
      "metadata": {
        "id": "QZvgwED05Xrz"
      }
    },
    {
      "cell_type": "code",
      "source": [
        "# build the model\n",
        "# layers = 3\n",
        "class Net_3(nn.Module):\n",
        "    def __init__(self):\n",
        "        super(Net_3, self).__init__()\n",
        "        self.fc1 = nn.Linear(28*28, 500)\n",
        "        self.fc2 = nn.Linear(500, 500)\n",
        "        self.fc3 = nn.Linear(500, 10)\n",
        "        self.Relu = nn.ReLU()\n",
        "        # self.softmax = nn.Softmax(dim=1)\n",
        "    def forward(self, x):\n",
        "        # flatten image input\n",
        "        x = x.view(-1, 28 * 28)\n",
        "        out = self.fc1(x)\n",
        "        out = self.Relu(out) # 1\n",
        "        out = self.fc2(out)\n",
        "        out = self.Relu(out) # 2\n",
        "        out = self.fc2(out)\n",
        "        out = self.Relu(out) # 3\n",
        "        out = self.fc3(out)\n",
        "        # out = self.softmax(out)\n",
        "\n",
        "        return out\n",
        "\n",
        "# initialize the NN\n",
        "model = Net_3()\n",
        "print(model)\n",
        "\n",
        "model = model.to('cuda:0')"
      ],
      "metadata": {
        "execution": {
          "iopub.status.busy": "2022-04-07T03:37:37.452957Z",
          "iopub.execute_input": "2022-04-07T03:37:37.453351Z",
          "iopub.status.idle": "2022-04-07T03:37:37.470517Z",
          "shell.execute_reply.started": "2022-04-07T03:37:37.453314Z",
          "shell.execute_reply": "2022-04-07T03:37:37.469825Z"
        },
        "trusted": true,
        "id": "r8zE0bR5tkig",
        "colab": {
          "base_uri": "https://localhost:8080/"
        },
        "outputId": "f21d5375-027f-4a0d-bfdd-6d7cedebb2a2"
      },
      "execution_count": null,
      "outputs": [
        {
          "output_type": "stream",
          "name": "stdout",
          "text": [
            "Net_3(\n",
            "  (fc1): Linear(in_features=784, out_features=500, bias=True)\n",
            "  (fc2): Linear(in_features=500, out_features=500, bias=True)\n",
            "  (fc3): Linear(in_features=500, out_features=10, bias=True)\n",
            "  (Relu): ReLU()\n",
            ")\n"
          ]
        }
      ]
    },
    {
      "cell_type": "code",
      "source": [
        "## Specify loss and optimization functions\n",
        "criterion = nn.CrossEntropyLoss()       #Cross Entropy Loss\n",
        "\n",
        "SGD = op.SGD(model.parameters(), lr=1e-2)\n",
        "SGD_M = op.SGD(model.parameters(),momentum=0.9, lr=1e-2)\n",
        "RMSprop = op.RMSprop(model.parameters(), lr=1e-3)\n",
        "Adam = op.Adam(model.parameters(), lr=1e-3)\n",
        "optimizers = [SGD, SGD_M, RMSprop, Adam]"
      ],
      "metadata": {
        "execution": {
          "iopub.status.busy": "2022-04-07T03:37:37.472867Z",
          "iopub.execute_input": "2022-04-07T03:37:37.473110Z",
          "iopub.status.idle": "2022-04-07T03:38:41.756279Z",
          "shell.execute_reply.started": "2022-04-07T03:37:37.473077Z",
          "shell.execute_reply": "2022-04-07T03:38:41.755537Z"
        },
        "trusted": true,
        "id": "zMHqTWu7tkig"
      },
      "execution_count": null,
      "outputs": []
    },
    {
      "cell_type": "code",
      "source": [
        "n_epochs = 2000\n",
        "train_list_3 = []\n",
        "loss_list_3 = []\n",
        "acc_list_3 = []\n",
        "\n",
        "\n",
        "for optimizer in optimizers:\n",
        "  \n",
        "  for epoch in range(n_epochs):\n",
        "      model.train()  # prep model for training\n",
        "\n",
        "      optimizer.zero_grad()\n",
        "      output = model(x_train)\n",
        "      loss = criterion(output, y_train)\n",
        "      \n",
        "      loss.backward()\n",
        "      optimizer.step()\n",
        "\n",
        "\n",
        "      # prep model for *evaluation*\n",
        "      if (epoch+1)%400 == 0:\n",
        "        model.eval()\n",
        "\n",
        "        train_out= model(x_train)\n",
        "        loss_train = criterion(train_out, y_train)\n",
        "\n",
        "        test_out = model(x_test)\n",
        "        loss_test = criterion(test_out, y_test)\n",
        "        acc_test = np.mean((torch.max(test_out,1)[1]==y_test).cpu().numpy())\n",
        "        print('Epoch: {} \\tTraining Loss: {:.6f} \\tTest accuracy: {:.6f} \\tAverage Test Loss: {:.6f}' .format(\n",
        "            epoch + 1,\n",
        "            loss_train, acc_test, loss_test\n",
        "        ))\n",
        "\n",
        "  train_list_3.append(loss_train)\n",
        "  loss_list_3.append(loss_test)\n",
        "  acc_list_3.append(acc_test)"
      ],
      "metadata": {
        "colab": {
          "base_uri": "https://localhost:8080/"
        },
        "id": "MMEIJrjg5s_w",
        "outputId": "25c17965-0e47-4e7c-9b52-b9dbdf362d0d"
      },
      "execution_count": null,
      "outputs": [
        {
          "output_type": "stream",
          "name": "stdout",
          "text": [
            "Epoch: 400 \tTraining Loss: 0.047764 \tTest accuracy: 0.970714 \tAverage Test Loss: 0.102287\n",
            "Epoch: 800 \tTraining Loss: 0.034534 \tTest accuracy: 0.972929 \tAverage Test Loss: 0.097385\n",
            "Epoch: 1200 \tTraining Loss: 0.025675 \tTest accuracy: 0.973500 \tAverage Test Loss: 0.095674\n",
            "Epoch: 1600 \tTraining Loss: 0.019332 \tTest accuracy: 0.973571 \tAverage Test Loss: 0.095480\n",
            "Epoch: 2000 \tTraining Loss: 0.014659 \tTest accuracy: 0.974143 \tAverage Test Loss: 0.096386\n",
            "Epoch: 400 \tTraining Loss: 0.001816 \tTest accuracy: 0.975143 \tAverage Test Loss: 0.117102\n",
            "Epoch: 800 \tTraining Loss: 0.000707 \tTest accuracy: 0.975286 \tAverage Test Loss: 0.128921\n",
            "Epoch: 1200 \tTraining Loss: 0.000408 \tTest accuracy: 0.975357 \tAverage Test Loss: 0.136252\n",
            "Epoch: 1600 \tTraining Loss: 0.000276 \tTest accuracy: 0.975500 \tAverage Test Loss: 0.141549\n",
            "Epoch: 2000 \tTraining Loss: 0.000205 \tTest accuracy: 0.975643 \tAverage Test Loss: 0.145593\n",
            "Epoch: 400 \tTraining Loss: 0.000104 \tTest accuracy: 0.975214 \tAverage Test Loss: 0.169598\n",
            "Epoch: 800 \tTraining Loss: 0.000005 \tTest accuracy: 0.975071 \tAverage Test Loss: 0.223177\n",
            "Epoch: 1200 \tTraining Loss: 0.000000 \tTest accuracy: 0.975571 \tAverage Test Loss: 0.272764\n",
            "Epoch: 1600 \tTraining Loss: 0.000000 \tTest accuracy: 0.975357 \tAverage Test Loss: 0.318586\n",
            "Epoch: 2000 \tTraining Loss: 0.000000 \tTest accuracy: 0.975500 \tAverage Test Loss: 0.351286\n",
            "Epoch: 400 \tTraining Loss: 0.000000 \tTest accuracy: 0.976357 \tAverage Test Loss: 0.322696\n",
            "Epoch: 800 \tTraining Loss: 0.000000 \tTest accuracy: 0.977143 \tAverage Test Loss: 0.338019\n",
            "Epoch: 1200 \tTraining Loss: 0.000000 \tTest accuracy: 0.977143 \tAverage Test Loss: 0.348170\n",
            "Epoch: 1600 \tTraining Loss: 0.000000 \tTest accuracy: 0.977143 \tAverage Test Loss: 0.355580\n",
            "Epoch: 2000 \tTraining Loss: 0.000000 \tTest accuracy: 0.977286 \tAverage Test Loss: 0.360712\n"
          ]
        }
      ]
    },
    {
      "cell_type": "code",
      "source": [
        "acc_list_3"
      ],
      "metadata": {
        "colab": {
          "base_uri": "https://localhost:8080/"
        },
        "id": "AQRxMbec_DpE",
        "outputId": "0cc97581-70e3-4880-e493-6fc4e62939f4"
      },
      "execution_count": null,
      "outputs": [
        {
          "output_type": "execute_result",
          "data": {
            "text/plain": [
              "[0.9741428571428571, 0.9756428571428571, 0.9755, 0.9772857142857143]"
            ]
          },
          "metadata": {},
          "execution_count": 32
        }
      ]
    },
    {
      "cell_type": "markdown",
      "source": [
        "当神经网络隐藏层为四层时："
      ],
      "metadata": {
        "id": "5h2eYs12_m2V"
      }
    },
    {
      "cell_type": "code",
      "source": [
        "# build the model\n",
        "# layers = 4\n",
        "class Net_4(nn.Module):\n",
        "    def __init__(self):\n",
        "        super(Net_4, self).__init__()\n",
        "        self.fc1 = nn.Linear(28*28, 500)\n",
        "        self.fc2 = nn.Linear(500, 500)\n",
        "        self.fc3 = nn.Linear(500, 10)\n",
        "        self.Relu = nn.ReLU()\n",
        "        # self.softmax = nn.Softmax(dim=1)\n",
        "    def forward(self, x):\n",
        "        # flatten image input\n",
        "        x = x.view(-1, 28 * 28)\n",
        "        out = self.fc1(x)\n",
        "        out = self.Relu(out) # 1\n",
        "        out = self.fc2(out)\n",
        "        out = self.Relu(out) # 2\n",
        "        out = self.fc2(out)\n",
        "        out = self.Relu(out) # 3\n",
        "        out = self.fc2(out)\n",
        "        out = self.Relu(out) # 4\n",
        "        out = self.fc3(out)\n",
        "        # out = self.softmax(out)\n",
        "\n",
        "        return out\n",
        "\n",
        "# initialize the NN\n",
        "model = Net_4()\n",
        "print(model)\n",
        "\n",
        "model = model.to('cuda:0')"
      ],
      "metadata": {
        "colab": {
          "base_uri": "https://localhost:8080/"
        },
        "id": "GGAp3TMQ_nWV",
        "outputId": "bf77d275-deb7-46d1-e629-89cbd448fd36"
      },
      "execution_count": null,
      "outputs": [
        {
          "output_type": "stream",
          "name": "stdout",
          "text": [
            "Net_4(\n",
            "  (fc1): Linear(in_features=784, out_features=500, bias=True)\n",
            "  (fc2): Linear(in_features=500, out_features=500, bias=True)\n",
            "  (fc3): Linear(in_features=500, out_features=10, bias=True)\n",
            "  (Relu): ReLU()\n",
            ")\n"
          ]
        }
      ]
    },
    {
      "cell_type": "code",
      "source": [
        "## Specify loss and optimization functions\n",
        "criterion = nn.CrossEntropyLoss()       #Cross Entropy Loss\n",
        "\n",
        "SGD = op.SGD(model.parameters(), lr=1e-2)\n",
        "SGD_M = op.SGD(model.parameters(),momentum=0.9, lr=1e-2)\n",
        "RMSprop = op.RMSprop(model.parameters(), lr=1e-3)\n",
        "Adam = op.Adam(model.parameters(), lr=1e-3)\n",
        "optimizers = [SGD, SGD_M, RMSprop, Adam]"
      ],
      "metadata": {
        "id": "1sfZkaWO_g9y"
      },
      "execution_count": null,
      "outputs": []
    },
    {
      "cell_type": "code",
      "source": [
        "n_epochs = 2000\n",
        "train_list_4 = []\n",
        "loss_list_4 = []\n",
        "acc_list_4 = []\n",
        "\n",
        "\n",
        "for optimizer in optimizers:\n",
        "  \n",
        "  for epoch in range(n_epochs):\n",
        "      model.train()  # prep model for training\n",
        "\n",
        "      optimizer.zero_grad()\n",
        "      output = model(x_train)\n",
        "      loss = criterion(output, y_train)\n",
        "      \n",
        "      loss.backward()\n",
        "      optimizer.step()\n",
        "\n",
        "\n",
        "      # prep model for *evaluation*\n",
        "      if (epoch+1)%400 == 0:\n",
        "        model.eval()\n",
        "\n",
        "        train_out= model(x_train)\n",
        "        loss_train = criterion(train_out, y_train)\n",
        "\n",
        "        test_out = model(x_test)\n",
        "        loss_test = criterion(test_out, y_test)\n",
        "        acc_test = np.mean((torch.max(test_out,1)[1]==y_test).cpu().numpy())\n",
        "        print('Epoch: {} \\tTraining Loss: {:.6f} \\tTest accuracy: {:.6f} \\tAverage Test Loss: {:.6f}' .format(\n",
        "            epoch + 1,\n",
        "            loss_train, acc_test, loss_test\n",
        "        ))\n",
        "\n",
        "  train_list_4.append(loss_train)\n",
        "  loss_list_4.append(loss_test)\n",
        "  acc_list_4.append(acc_test)"
      ],
      "metadata": {
        "execution": {
          "iopub.status.busy": "2022-04-07T03:38:41.792071Z",
          "iopub.execute_input": "2022-04-07T03:38:41.792317Z",
          "iopub.status.idle": "2022-04-07T03:40:13.622095Z",
          "shell.execute_reply.started": "2022-04-07T03:38:41.792284Z",
          "shell.execute_reply": "2022-04-07T03:40:13.621342Z"
        },
        "trusted": true,
        "id": "wBXwWBGTtkih",
        "colab": {
          "base_uri": "https://localhost:8080/"
        },
        "outputId": "b3904072-f85d-4be6-afbf-376ed85f00f7"
      },
      "execution_count": null,
      "outputs": [
        {
          "output_type": "stream",
          "name": "stdout",
          "text": [
            "Epoch: 400 \tTraining Loss: 0.092201 \tTest accuracy: 0.959143 \tAverage Test Loss: 0.138566\n",
            "Epoch: 800 \tTraining Loss: 0.046086 \tTest accuracy: 0.966500 \tAverage Test Loss: 0.111226\n",
            "Epoch: 1200 \tTraining Loss: 0.025645 \tTest accuracy: 0.969714 \tAverage Test Loss: 0.103368\n",
            "Epoch: 1600 \tTraining Loss: 0.015097 \tTest accuracy: 0.971500 \tAverage Test Loss: 0.101942\n",
            "Epoch: 2000 \tTraining Loss: 0.009525 \tTest accuracy: 0.972214 \tAverage Test Loss: 0.103056\n",
            "Epoch: 400 \tTraining Loss: 0.001098 \tTest accuracy: 0.973214 \tAverage Test Loss: 0.119720\n",
            "Epoch: 800 \tTraining Loss: 0.000482 \tTest accuracy: 0.973786 \tAverage Test Loss: 0.127974\n",
            "Epoch: 1200 \tTraining Loss: 0.000292 \tTest accuracy: 0.974000 \tAverage Test Loss: 0.133190\n",
            "Epoch: 1600 \tTraining Loss: 0.000203 \tTest accuracy: 0.973929 \tAverage Test Loss: 0.137037\n",
            "Epoch: 2000 \tTraining Loss: 0.000154 \tTest accuracy: 0.973857 \tAverage Test Loss: 0.140077\n",
            "Epoch: 400 \tTraining Loss: 0.053034 \tTest accuracy: 0.964714 \tAverage Test Loss: 0.115164\n",
            "Epoch: 800 \tTraining Loss: 0.122668 \tTest accuracy: 0.954143 \tAverage Test Loss: 0.166301\n",
            "Epoch: 1200 \tTraining Loss: 0.002908 \tTest accuracy: 0.975000 \tAverage Test Loss: 0.121153\n",
            "Epoch: 1600 \tTraining Loss: 0.000019 \tTest accuracy: 0.975929 \tAverage Test Loss: 0.208690\n",
            "Epoch: 2000 \tTraining Loss: 0.000001 \tTest accuracy: 0.975500 \tAverage Test Loss: 0.262917\n",
            "Epoch: 400 \tTraining Loss: 0.000000 \tTest accuracy: 0.976857 \tAverage Test Loss: 0.314482\n",
            "Epoch: 800 \tTraining Loss: 0.000000 \tTest accuracy: 0.976714 \tAverage Test Loss: 0.351812\n",
            "Epoch: 1200 \tTraining Loss: 0.000000 \tTest accuracy: 0.976571 \tAverage Test Loss: 0.373340\n",
            "Epoch: 1600 \tTraining Loss: 0.000000 \tTest accuracy: 0.976500 \tAverage Test Loss: 0.388882\n",
            "Epoch: 2000 \tTraining Loss: 0.000000 \tTest accuracy: 0.976429 \tAverage Test Loss: 0.400322\n"
          ]
        }
      ]
    },
    {
      "cell_type": "code",
      "source": [
        "acc_list_4"
      ],
      "metadata": {
        "colab": {
          "base_uri": "https://localhost:8080/"
        },
        "id": "Bi_jXZhTHBAH",
        "outputId": "45ac81cb-81a1-40f7-c5aa-6d47634489e0"
      },
      "execution_count": null,
      "outputs": [
        {
          "output_type": "execute_result",
          "data": {
            "text/plain": [
              "[0.9722142857142857, 0.9738571428571429, 0.9755, 0.9764285714285714]"
            ]
          },
          "metadata": {},
          "execution_count": 39
        }
      ]
    },
    {
      "cell_type": "markdown",
      "source": [
        "当神经网络层数为五层时："
      ],
      "metadata": {
        "id": "9dCd3WPS_xZx"
      }
    },
    {
      "cell_type": "code",
      "source": [
        "# build the model\n",
        "# layers = 5\n",
        "class Net_5(nn.Module):\n",
        "    def __init__(self):\n",
        "        super(Net_5, self).__init__()\n",
        "        self.fc1 = nn.Linear(28*28, 500)\n",
        "        self.fc2 = nn.Linear(500, 500)\n",
        "        self.fc3 = nn.Linear(500, 10)\n",
        "        self.Relu = nn.ReLU()\n",
        "        # self.softmax = nn.Softmax(dim=1)\n",
        "    def forward(self, x):\n",
        "        # flatten image input\n",
        "        x = x.view(-1, 28 * 28)\n",
        "        out = self.fc1(x)\n",
        "        out = self.Relu(out) # 1\n",
        "        out = self.fc2(out)\n",
        "        out = self.Relu(out) # 2\n",
        "        out = self.fc2(out)\n",
        "        out = self.Relu(out) # 3\n",
        "        out = self.fc2(out)\n",
        "        out = self.Relu(out) # 4\n",
        "        out = self.fc2(out)\n",
        "        out = self.Relu(out) # 5\n",
        "        out = self.fc3(out)\n",
        "        # out = self.softmax(out)\n",
        "\n",
        "        return out\n",
        "\n",
        "# initialize the NN\n",
        "model = Net_5()\n",
        "print(model)\n",
        "\n",
        "model = model.to('cuda:0')"
      ],
      "metadata": {
        "execution": {
          "iopub.status.busy": "2022-04-07T03:40:13.623270Z",
          "iopub.execute_input": "2022-04-07T03:40:13.623534Z",
          "iopub.status.idle": "2022-04-07T03:40:13.632170Z",
          "shell.execute_reply.started": "2022-04-07T03:40:13.623497Z",
          "shell.execute_reply": "2022-04-07T03:40:13.631494Z"
        },
        "trusted": true,
        "id": "ibISVEC6tkii",
        "colab": {
          "base_uri": "https://localhost:8080/"
        },
        "outputId": "e7694681-3ff1-46cf-ddec-f4ddf9b3db28"
      },
      "execution_count": null,
      "outputs": [
        {
          "output_type": "stream",
          "name": "stdout",
          "text": [
            "Net_5(\n",
            "  (fc1): Linear(in_features=784, out_features=500, bias=True)\n",
            "  (fc2): Linear(in_features=500, out_features=500, bias=True)\n",
            "  (fc3): Linear(in_features=500, out_features=10, bias=True)\n",
            "  (Relu): ReLU()\n",
            ")\n"
          ]
        }
      ]
    },
    {
      "cell_type": "code",
      "source": [
        "## Specify loss and optimization functions\n",
        "criterion = nn.CrossEntropyLoss()       #Cross Entropy Loss\n",
        "\n",
        "SGD = op.SGD(model.parameters(), lr=1e-2)\n",
        "SGD_M = op.SGD(model.parameters(),momentum=0.9, lr=1e-2)\n",
        "RMSprop = op.RMSprop(model.parameters(), lr=1e-3)\n",
        "Adam = op.Adam(model.parameters(), lr=1e-3)\n",
        "optimizers = [SGD, SGD_M, RMSprop, Adam]"
      ],
      "metadata": {
        "execution": {
          "iopub.status.busy": "2022-04-07T03:40:13.633493Z",
          "iopub.execute_input": "2022-04-07T03:40:13.633947Z",
          "iopub.status.idle": "2022-04-07T03:40:13.653545Z",
          "shell.execute_reply.started": "2022-04-07T03:40:13.633909Z",
          "shell.execute_reply": "2022-04-07T03:40:13.652945Z"
        },
        "trusted": true,
        "id": "N1qls9G4tkii"
      },
      "execution_count": null,
      "outputs": []
    },
    {
      "cell_type": "code",
      "source": [
        "n_epochs = 2000\n",
        "train_list_5 = []\n",
        "loss_list_5 = []\n",
        "acc_list_5 = []\n",
        "\n",
        "\n",
        "for optimizer in optimizers:\n",
        "  \n",
        "  for epoch in range(n_epochs):\n",
        "      model.train()  # prep model for training\n",
        "\n",
        "      optimizer.zero_grad()\n",
        "      output = model(x_train)\n",
        "      loss = criterion(output, y_train)\n",
        "      \n",
        "      loss.backward()\n",
        "      optimizer.step()\n",
        "\n",
        "\n",
        "      # prep model for *evaluation*\n",
        "      if (epoch+1)%400 == 0:\n",
        "        model.eval()\n",
        "\n",
        "        train_out= model(x_train)\n",
        "        loss_train = criterion(train_out, y_train)\n",
        "\n",
        "        test_out = model(x_test)\n",
        "        loss_test = criterion(test_out, y_test)\n",
        "        acc_test = np.mean((torch.max(test_out,1)[1]==y_test).cpu().numpy())\n",
        "        print('Epoch: {} \\tTraining Loss: {:.6f} \\tTest accuracy: {:.6f} \\tAverage Test Loss: {:.6f}' .format(\n",
        "            epoch + 1,\n",
        "            loss_train, acc_test, loss_test\n",
        "        ))\n",
        "\n",
        "  train_list_5.append(loss_train)\n",
        "  loss_list_5.append(loss_test)\n",
        "  acc_list_5.append(acc_test)"
      ],
      "metadata": {
        "execution": {
          "iopub.status.busy": "2022-04-07T03:40:13.655875Z",
          "iopub.execute_input": "2022-04-07T03:40:13.656125Z",
          "iopub.status.idle": "2022-04-07T03:42:13.037513Z",
          "shell.execute_reply.started": "2022-04-07T03:40:13.656093Z",
          "shell.execute_reply": "2022-04-07T03:42:13.036669Z"
        },
        "trusted": true,
        "id": "yd19xrERtkii",
        "colab": {
          "base_uri": "https://localhost:8080/"
        },
        "outputId": "79d10fcf-3d3c-42a8-9a9f-4a6451201f4d"
      },
      "execution_count": null,
      "outputs": [
        {
          "output_type": "stream",
          "name": "stdout",
          "text": [
            "Epoch: 400 \tTraining Loss: 0.119327 \tTest accuracy: 0.955357 \tAverage Test Loss: 0.152815\n",
            "Epoch: 800 \tTraining Loss: 0.063764 \tTest accuracy: 0.966000 \tAverage Test Loss: 0.117504\n",
            "Epoch: 1200 \tTraining Loss: 0.035897 \tTest accuracy: 0.970643 \tAverage Test Loss: 0.102834\n",
            "Epoch: 1600 \tTraining Loss: 0.020771 \tTest accuracy: 0.972429 \tAverage Test Loss: 0.098337\n",
            "Epoch: 2000 \tTraining Loss: 0.012647 \tTest accuracy: 0.973000 \tAverage Test Loss: 0.098930\n",
            "Epoch: 400 \tTraining Loss: 0.000958 \tTest accuracy: 0.973357 \tAverage Test Loss: 0.123127\n",
            "Epoch: 800 \tTraining Loss: 0.000384 \tTest accuracy: 0.973643 \tAverage Test Loss: 0.134578\n",
            "Epoch: 1200 \tTraining Loss: 0.000224 \tTest accuracy: 0.973643 \tAverage Test Loss: 0.141571\n",
            "Epoch: 1600 \tTraining Loss: 0.000153 \tTest accuracy: 0.973929 \tAverage Test Loss: 0.146593\n",
            "Epoch: 2000 \tTraining Loss: 0.000114 \tTest accuracy: 0.973857 \tAverage Test Loss: 0.150527\n",
            "Epoch: 400 \tTraining Loss: 0.152873 \tTest accuracy: 0.935500 \tAverage Test Loss: 0.212402\n",
            "Epoch: 800 \tTraining Loss: 0.117007 \tTest accuracy: 0.953929 \tAverage Test Loss: 0.160603\n",
            "Epoch: 1200 \tTraining Loss: 0.008774 \tTest accuracy: 0.973214 \tAverage Test Loss: 0.117621\n",
            "Epoch: 1600 \tTraining Loss: 0.000098 \tTest accuracy: 0.976214 \tAverage Test Loss: 0.212885\n",
            "Epoch: 2000 \tTraining Loss: 0.000004 \tTest accuracy: 0.976929 \tAverage Test Loss: 0.285125\n",
            "Epoch: 400 \tTraining Loss: 0.000000 \tTest accuracy: 0.977929 \tAverage Test Loss: 0.339072\n",
            "Epoch: 800 \tTraining Loss: 0.000000 \tTest accuracy: 0.978071 \tAverage Test Loss: 0.377135\n",
            "Epoch: 1200 \tTraining Loss: 0.000000 \tTest accuracy: 0.978000 \tAverage Test Loss: 0.398868\n",
            "Epoch: 1600 \tTraining Loss: 0.000000 \tTest accuracy: 0.977714 \tAverage Test Loss: 0.414124\n",
            "Epoch: 2000 \tTraining Loss: 0.000000 \tTest accuracy: 0.977857 \tAverage Test Loss: 0.426167\n"
          ]
        }
      ]
    },
    {
      "cell_type": "markdown",
      "source": [
        "最后，我们对比以上神经网络的结果."
      ],
      "metadata": {
        "execution": {
          "iopub.status.busy": "2022-04-07T02:20:39.286216Z",
          "iopub.execute_input": "2022-04-07T02:20:39.286687Z",
          "iopub.status.idle": "2022-04-07T02:20:39.292244Z",
          "shell.execute_reply.started": "2022-04-07T02:20:39.286631Z",
          "shell.execute_reply": "2022-04-07T02:20:39.290791Z"
        },
        "id": "Ip4y7IK1tkij"
      }
    },
    {
      "cell_type": "code",
      "source": [
        "# Loss in Train\n",
        "Train = [train_list_1, train_list_2, train_list_3, train_list_4, train_list_5]\n",
        "\n",
        "# Accutacy in Test\n",
        "Acc = [acc_list_1, acc_list_2, acc_list_3, acc_list_4, acc_list_5]\n",
        "\n",
        "# Loss in Test\n",
        "Test = [loss_list_1, loss_list_2, loss_list_3, loss_list_4, loss_list_5]"
      ],
      "metadata": {
        "execution": {
          "iopub.status.busy": "2022-04-07T03:42:13.077341Z",
          "iopub.execute_input": "2022-04-07T03:42:13.077533Z",
          "iopub.status.idle": "2022-04-07T03:44:40.023115Z",
          "shell.execute_reply.started": "2022-04-07T03:42:13.077510Z",
          "shell.execute_reply": "2022-04-07T03:44:40.022078Z"
        },
        "trusted": true,
        "id": "ocnVOjLWtkij"
      },
      "execution_count": null,
      "outputs": []
    },
    {
      "cell_type": "code",
      "source": [
        "Test_1 = np.zeros((5,4))\n",
        "for i in range(5):\n",
        "  t0 = Test[i]\n",
        "  for j in range(4):\n",
        "    t1 = t0[j]\n",
        "    a = t1.item()\n",
        "    Test_1[i,j] = a\n",
        "print(Test_1)"
      ],
      "metadata": {
        "colab": {
          "base_uri": "https://localhost:8080/"
        },
        "id": "A6hzfgiVQG_j",
        "outputId": "3eee912b-f30c-400b-8714-1410456c54b6"
      },
      "execution_count": null,
      "outputs": [
        {
          "output_type": "stream",
          "name": "stdout",
          "text": [
            "[[0.22187398 0.50689518 0.55468762 0.84911323]\n",
            " [0.14207302 0.20729831 0.37223014 0.41998759]\n",
            " [0.09638622 0.14559314 0.35128623 0.36071232]\n",
            " [0.10305554 0.14007662 0.26291749 0.40032157]\n",
            " [0.09892962 0.15052706 0.28512493 0.42616659]]\n"
          ]
        }
      ]
    },
    {
      "cell_type": "code",
      "source": [
        "Train_1 = np.zeros((5,4))\n",
        "for i in range(5):\n",
        "  t0 = Train[i]\n",
        "  for j in range(4):\n",
        "    t1 = t0[j]\n",
        "    a = t1.item()\n",
        "    Train_1[i,j] = a\n",
        "print(Train_1)"
      ],
      "metadata": {
        "colab": {
          "base_uri": "https://localhost:8080/"
        },
        "id": "KO5tiG17UlDb",
        "outputId": "c30c8514-950e-420b-e7a5-24f2f0cd8395"
      },
      "execution_count": null,
      "outputs": [
        {
          "output_type": "stream",
          "name": "stdout",
          "text": [
            "[[7.55558833e-02 2.72233505e-03 2.66768574e-03 1.80278061e-04]\n",
            " [1.94997117e-02 2.78487249e-04 2.34079025e-07 2.19806878e-07]\n",
            " [1.46590164e-02 2.05052216e-04 5.07278042e-09 1.13057199e-08]\n",
            " [9.52514168e-03 1.53679852e-04 1.20799200e-06 5.65392355e-09]\n",
            " [1.26467245e-02 1.13606839e-04 3.68450401e-06 8.55538929e-09]]\n"
          ]
        }
      ]
    },
    {
      "cell_type": "code",
      "source": [
        "from sklearn.utils.validation import column_or_1d\n",
        "x_tick = ['SGD', 'SGD_M', 'RMSprop', 'Adam']\n",
        "y_tick = ['1 Layer', '2 Layers', '3 Layers', '4 Layers', '5 Layers']\n",
        "\n",
        "print('loss in Test Set')\n",
        "Loss_test = pd.DataFrame(Test_1, index=y_tick, columns=x_tick)\n",
        "print(Loss_test)"
      ],
      "metadata": {
        "colab": {
          "base_uri": "https://localhost:8080/"
        },
        "id": "rW3Ut-VnWT2k",
        "outputId": "c58b0b11-05e3-427a-deef-c2f3023cdf60"
      },
      "execution_count": null,
      "outputs": [
        {
          "output_type": "stream",
          "name": "stdout",
          "text": [
            "loss in Test Set\n",
            "               SGD     SGD_M   RMSprop      Adam\n",
            "1 Layer   0.221874  0.506895  0.554688  0.849113\n",
            "2 Layers  0.142073  0.207298  0.372230  0.419988\n",
            "3 Layers  0.096386  0.145593  0.351286  0.360712\n",
            "4 Layers  0.103056  0.140077  0.262917  0.400322\n",
            "5 Layers  0.098930  0.150527  0.285125  0.426167\n"
          ]
        }
      ]
    },
    {
      "cell_type": "markdown",
      "source": [
        "展示实验结果："
      ],
      "metadata": {
        "id": "k3pdZd5rYnAb"
      }
    },
    {
      "cell_type": "code",
      "source": [
        "print('loss in Train Set')\n",
        "Loss_train = pd.DataFrame(Train_1, index=y_tick, columns=x_tick)\n",
        "print(Loss_train)"
      ],
      "metadata": {
        "colab": {
          "base_uri": "https://localhost:8080/"
        },
        "id": "Xr6rxcl2YVEU",
        "outputId": "15849db3-f62d-485d-e057-104009433990"
      },
      "execution_count": null,
      "outputs": [
        {
          "output_type": "stream",
          "name": "stdout",
          "text": [
            "loss in Train Set\n",
            "               SGD     SGD_M       RMSprop          Adam\n",
            "1 Layer   0.075556  0.002722  2.667686e-03  1.802781e-04\n",
            "2 Layers  0.019500  0.000278  2.340790e-07  2.198069e-07\n",
            "3 Layers  0.014659  0.000205  5.072780e-09  1.130572e-08\n",
            "4 Layers  0.009525  0.000154  1.207992e-06  5.653924e-09\n",
            "5 Layers  0.012647  0.000114  3.684504e-06  8.555389e-09\n"
          ]
        }
      ]
    },
    {
      "cell_type": "code",
      "source": [
        "print('accuracy in Test Set')\n",
        "accuracy = pd.DataFrame(Acc, index=y_tick, columns=x_tick)\n",
        "print(accuracy)"
      ],
      "metadata": {
        "colab": {
          "base_uri": "https://localhost:8080/"
        },
        "id": "cAvuYnvtYb3H",
        "outputId": "1c3081b5-a030-453a-91e9-4654633ad781"
      },
      "execution_count": null,
      "outputs": [
        {
          "output_type": "stream",
          "name": "stdout",
          "text": [
            "accuracy in Test Set\n",
            "               SGD     SGD_M   RMSprop      Adam\n",
            "1 Layer   0.953571  0.953214  0.961571  0.960500\n",
            "2 Layers  0.964500  0.967714  0.971500  0.972786\n",
            "3 Layers  0.974143  0.975643  0.975500  0.977286\n",
            "4 Layers  0.972214  0.973857  0.975500  0.976429\n",
            "5 Layers  0.973000  0.973857  0.976929  0.977857\n"
          ]
        }
      ]
    },
    {
      "cell_type": "code",
      "source": [
        "import seaborn as sns\n",
        "\n",
        "ax1 = sns.heatmap(Loss_train, annot=True)\n",
        "plt.title('Loss in Train Set of derrfernt models')                "
      ],
      "metadata": {
        "colab": {
          "base_uri": "https://localhost:8080/",
          "height": 300
        },
        "id": "wFCTBWehCmFD",
        "outputId": "fc7ef2ba-cdd3-44d2-fe82-26da9656d395"
      },
      "execution_count": null,
      "outputs": [
        {
          "output_type": "execute_result",
          "data": {
            "text/plain": [
              "Text(0.5, 1.0, 'Loss in Train Set of derrfernt models')"
            ]
          },
          "metadata": {},
          "execution_count": 73
        },
        {
          "output_type": "display_data",
          "data": {
            "text/plain": [
              "<Figure size 432x288 with 2 Axes>"
            ],
            "image/png": "[encoded data removed]"
          },
          "metadata": {
            "needs_background": "light"
          }
        }
      ]
    },
    {
      "cell_type": "code",
      "source": [
        "ax1 = sns.heatmap(Loss_test, annot=True)\n",
        "plt.title('Loss in Test Set of derrfernt models')  "
      ],
      "metadata": {
        "colab": {
          "base_uri": "https://localhost:8080/",
          "height": 300
        },
        "id": "vq_0EihJQik7",
        "outputId": "6981ae9e-bd35-4524-c312-bff85e3cdafb"
      },
      "execution_count": null,
      "outputs": [
        {
          "output_type": "execute_result",
          "data": {
            "text/plain": [
              "Text(0.5, 1.0, 'Loss in Test Set of derrfernt models')"
            ]
          },
          "metadata": {},
          "execution_count": 74
        },
        {
          "output_type": "display_data",
          "data": {
            "text/plain": [
              "<Figure size 432x288 with 2 Axes>"
            ],
            "image/png": "[encoded data removed]"
          },
          "metadata": {
            "needs_background": "light"
          }
        }
      ]
    },
    {
      "cell_type": "code",
      "source": [
        "ax3 = sns.heatmap(accuracy, annot=True)\n",
        "plt.title('Accuracy in Train Set of derrfernt models')  "
      ],
      "metadata": {
        "colab": {
          "base_uri": "https://localhost:8080/",
          "height": 300
        },
        "id": "rLmByPRGY88p",
        "outputId": "2ba770fd-9cc2-4ade-897b-9aa1e15bd580"
      },
      "execution_count": null,
      "outputs": [
        {
          "output_type": "execute_result",
          "data": {
            "text/plain": [
              "Text(0.5, 1.0, 'Accuracy in Train Set of derrfernt models')"
            ]
          },
          "metadata": {},
          "execution_count": 79
        },
        {
          "output_type": "display_data",
          "data": {
            "text/plain": [
              "<Figure size 432x288 with 2 Axes>"
            ],
            "image/png": "[encoded data removed]"
          },
          "metadata": {
            "needs_background": "light"
          }
        }
      ]
    },
    {
      "cell_type": "markdown",
      "source": [
        "### 综上所述，针对本问题，我们可以看出隐藏层为**1层时模型效果最差**，**3层时效果较好**。在优化器方面，**SGD优化器效果最差，Adam效果最好**，优化效果：**Adam > RMSprop > SGD+momentum0.9 > SGD**."
      ],
      "metadata": {
        "id": "gNgqBew5aJLS"
      }
    }
  ]
}