{
  "metadata": {
    "kernelspec": {
      "language": "python",
      "display_name": "Python 3",
      "name": "python3"
    },
    "language_info": {
      "pygments_lexer": "ipython3",
      "nbconvert_exporter": "python",
      "version": "3.6.4",
      "file_extension": ".py",
      "codemirror_mode": {
        "name": "ipython",
        "version": 3
      },
      "name": "python",
      "mimetype": "text/x-python"
    },
    "colab": {
      "name": "deeplearning-hw5.ipynb",
      "provenance": [],
      "collapsed_sections": [],
      "include_colab_link": true
    },
    "accelerator": "GPU",
    "widgets": {
      "application/vnd.jupyter.widget-state+json": {
        "1f19e3847d0e4211a3c2ab40426cf1b0": {
          "model_module": "@jupyter-widgets/controls",
          "model_name": "HBoxModel",
          "model_module_version": "1.5.0",
          "state": {
            "_dom_classes": [],
            "_model_module": "@jupyter-widgets/controls",
            "_model_module_version": "1.5.0",
            "_model_name": "HBoxModel",
            "_view_count": null,
            "_view_module": "@jupyter-widgets/controls",
            "_view_module_version": "1.5.0",
            "_view_name": "HBoxView",
            "box_style": "",
            "children": [
              "IPY_MODEL_3e7b3b6cdf474e9e8e154e0171e73c0e",
              "IPY_MODEL_d29094c788944278ad5fb6d260e77ca9",
              "IPY_MODEL_beb76f3a82df47b39468e65d62c62898"
            ],
            "layout": "IPY_MODEL_bfe87efb5a1c4c45982610c3cbf45db5"
          }
        },
        "3e7b3b6cdf474e9e8e154e0171e73c0e": {
          "model_module": "@jupyter-widgets/controls",
          "model_name": "HTMLModel",
          "model_module_version": "1.5.0",
          "state": {
            "_dom_classes": [],
            "_model_module": "@jupyter-widgets/controls",
            "_model_module_version": "1.5.0",
            "_model_name": "HTMLModel",
            "_view_count": null,
            "_view_module": "@jupyter-widgets/controls",
            "_view_module_version": "1.5.0",
            "_view_name": "HTMLView",
            "description": "",
            "description_tooltip": null,
            "layout": "IPY_MODEL_c257b66a601b49629248934ca18cdf28",
            "placeholder": "​",
            "style": "IPY_MODEL_cb675f834d0c482c909e216733b83855",
            "value": ""
          }
        },
        "d29094c788944278ad5fb6d260e77ca9": {
          "model_module": "@jupyter-widgets/controls",
          "model_name": "FloatProgressModel",
          "model_module_version": "1.5.0",
          "state": {
            "_dom_classes": [],
            "_model_module": "@jupyter-widgets/controls",
            "_model_module_version": "1.5.0",
            "_model_name": "FloatProgressModel",
            "_view_count": null,
            "_view_module": "@jupyter-widgets/controls",
            "_view_module_version": "1.5.0",
            "_view_name": "ProgressView",
            "bar_style": "success",
            "description": "",
            "description_tooltip": null,
            "layout": "IPY_MODEL_f900629508eb492fbe3d87433b7b692f",
            "max": 170498071,
            "min": 0,
            "orientation": "horizontal",
            "style": "IPY_MODEL_7322798ce8304032a5041dcdd2e5e6d8",
            "value": 170498071
          }
        },
        "beb76f3a82df47b39468e65d62c62898": {
          "model_module": "@jupyter-widgets/controls",
          "model_name": "HTMLModel",
          "model_module_version": "1.5.0",
          "state": {
            "_dom_classes": [],
            "_model_module": "@jupyter-widgets/controls",
            "_model_module_version": "1.5.0",
            "_model_name": "HTMLModel",
            "_view_count": null,
            "_view_module": "@jupyter-widgets/controls",
            "_view_module_version": "1.5.0",
            "_view_name": "HTMLView",
            "description": "",
            "description_tooltip": null,
            "layout": "IPY_MODEL_7d1e8f0421584042b60789e6146a568a",
            "placeholder": "​",
            "style": "IPY_MODEL_9cc34fb9f86842568c4367ff1ca04f95",
            "value": " 170499072/? [00:02&lt;00:00, 64799806.62it/s]"
          }
        },
        "bfe87efb5a1c4c45982610c3cbf45db5": {
          "model_module": "@jupyter-widgets/base",
          "model_name": "LayoutModel",
          "model_module_version": "1.2.0",
          "state": {
            "_model_module": "@jupyter-widgets/base",
            "_model_module_version": "1.2.0",
            "_model_name": "LayoutModel",
            "_view_count": null,
            "_view_module": "@jupyter-widgets/base",
            "_view_module_version": "1.2.0",
            "_view_name": "LayoutView",
            "align_content": null,
            "align_items": null,
            "align_self": null,
            "border": null,
            "bottom": null,
            "display": null,
            "flex": null,
            "flex_flow": null,
            "grid_area": null,
            "grid_auto_columns": null,
            "grid_auto_flow": null,
            "grid_auto_rows": null,
            "grid_column": null,
            "grid_gap": null,
            "grid_row": null,
            "grid_template_areas": null,
            "grid_template_columns": null,
            "grid_template_rows": null,
            "height": null,
            "justify_content": null,
            "justify_items": null,
            "left": null,
            "margin": null,
            "max_height": null,
            "max_width": null,
            "min_height": null,
            "min_width": null,
            "object_fit": null,
            "object_position": null,
            "order": null,
            "overflow": null,
            "overflow_x": null,
            "overflow_y": null,
            "padding": null,
            "right": null,
            "top": null,
            "visibility": null,
            "width": null
          }
        },
        "c257b66a601b49629248934ca18cdf28": {
          "model_module": "@jupyter-widgets/base",
          "model_name": "LayoutModel",
          "model_module_version": "1.2.0",
          "state": {
            "_model_module": "@jupyter-widgets/base",
            "_model_module_version": "1.2.0",
            "_model_name": "LayoutModel",
            "_view_count": null,
            "_view_module": "@jupyter-widgets/base",
            "_view_module_version": "1.2.0",
            "_view_name": "LayoutView",
            "align_content": null,
            "align_items": null,
            "align_self": null,
            "border": null,
            "bottom": null,
            "display": null,
            "flex": null,
            "flex_flow": null,
            "grid_area": null,
            "grid_auto_columns": null,
            "grid_auto_flow": null,
            "grid_auto_rows": null,
            "grid_column": null,
            "grid_gap": null,
            "grid_row": null,
            "grid_template_areas": null,
            "grid_template_columns": null,
            "grid_template_rows": null,
            "height": null,
            "justify_content": null,
            "justify_items": null,
            "left": null,
            "margin": null,
            "max_height": null,
            "max_width": null,
            "min_height": null,
            "min_width": null,
            "object_fit": null,
            "object_position": null,
            "order": null,
            "overflow": null,
            "overflow_x": null,
            "overflow_y": null,
            "padding": null,
            "right": null,
            "top": null,
            "visibility": null,
            "width": null
          }
        },
        "cb675f834d0c482c909e216733b83855": {
          "model_module": "@jupyter-widgets/controls",
          "model_name": "DescriptionStyleModel",
          "model_module_version": "1.5.0",
          "state": {
            "_model_module": "@jupyter-widgets/controls",
            "_model_module_version": "1.5.0",
            "_model_name": "DescriptionStyleModel",
            "_view_count": null,
            "_view_module": "@jupyter-widgets/base",
            "_view_module_version": "1.2.0",
            "_view_name": "StyleView",
            "description_width": ""
          }
        },
        "f900629508eb492fbe3d87433b7b692f": {
          "model_module": "@jupyter-widgets/base",
          "model_name": "LayoutModel",
          "model_module_version": "1.2.0",
          "state": {
            "_model_module": "@jupyter-widgets/base",
            "_model_module_version": "1.2.0",
            "_model_name": "LayoutModel",
            "_view_count": null,
            "_view_module": "@jupyter-widgets/base",
            "_view_module_version": "1.2.0",
            "_view_name": "LayoutView",
            "align_content": null,
            "align_items": null,
            "align_self": null,
            "border": null,
            "bottom": null,
            "display": null,
            "flex": null,
            "flex_flow": null,
            "grid_area": null,
            "grid_auto_columns": null,
            "grid_auto_flow": null,
            "grid_auto_rows": null,
            "grid_column": null,
            "grid_gap": null,
            "grid_row": null,
            "grid_template_areas": null,
            "grid_template_columns": null,
            "grid_template_rows": null,
            "height": null,
            "justify_content": null,
            "justify_items": null,
            "left": null,
            "margin": null,
            "max_height": null,
            "max_width": null,
            "min_height": null,
            "min_width": null,
            "object_fit": null,
            "object_position": null,
            "order": null,
            "overflow": null,
            "overflow_x": null,
            "overflow_y": null,
            "padding": null,
            "right": null,
            "top": null,
            "visibility": null,
            "width": null
          }
        },
        "7322798ce8304032a5041dcdd2e5e6d8": {
          "model_module": "@jupyter-widgets/controls",
          "model_name": "ProgressStyleModel",
          "model_module_version": "1.5.0",
          "state": {
            "_model_module": "@jupyter-widgets/controls",
            "_model_module_version": "1.5.0",
            "_model_name": "ProgressStyleModel",
            "_view_count": null,
            "_view_module": "@jupyter-widgets/base",
            "_view_module_version": "1.2.0",
            "_view_name": "StyleView",
            "bar_color": null,
            "description_width": ""
          }
        },
        "7d1e8f0421584042b60789e6146a568a": {
          "model_module": "@jupyter-widgets/base",
          "model_name": "LayoutModel",
          "model_module_version": "1.2.0",
          "state": {
            "_model_module": "@jupyter-widgets/base",
            "_model_module_version": "1.2.0",
            "_model_name": "LayoutModel",
            "_view_count": null,
            "_view_module": "@jupyter-widgets/base",
            "_view_module_version": "1.2.0",
            "_view_name": "LayoutView",
            "align_content": null,
            "align_items": null,
            "align_self": null,
            "border": null,
            "bottom": null,
            "display": null,
            "flex": null,
            "flex_flow": null,
            "grid_area": null,
            "grid_auto_columns": null,
            "grid_auto_flow": null,
            "grid_auto_rows": null,
            "grid_column": null,
            "grid_gap": null,
            "grid_row": null,
            "grid_template_areas": null,
            "grid_template_columns": null,
            "grid_template_rows": null,
            "height": null,
            "justify_content": null,
            "justify_items": null,
            "left": null,
            "margin": null,
            "max_height": null,
            "max_width": null,
            "min_height": null,
            "min_width": null,
            "object_fit": null,
            "object_position": null,
            "order": null,
            "overflow": null,
            "overflow_x": null,
            "overflow_y": null,
            "padding": null,
            "right": null,
            "top": null,
            "visibility": null,
            "width": null
          }
        },
        "9cc34fb9f86842568c4367ff1ca04f95": {
          "model_module": "@jupyter-widgets/controls",
          "model_name": "DescriptionStyleModel",
          "model_module_version": "1.5.0",
          "state": {
            "_model_module": "@jupyter-widgets/controls",
            "_model_module_version": "1.5.0",
            "_model_name": "DescriptionStyleModel",
            "_view_count": null,
            "_view_module": "@jupyter-widgets/base",
            "_view_module_version": "1.2.0",
            "_view_name": "StyleView",
            "description_width": ""
          }
        }
      }
    }
  },
  "nbformat_minor": 0,
  "nbformat": 4,
  "cells": [
    {
      "cell_type": "markdown",
      "metadata": {
        "id": "view-in-github",
        "colab_type": "text"
      },
      "source": [
        "<a href=\"https://colab.research.google.com/github/YiningMa0822/Deep-Learning-Homework/blob/main/deeplearning_hw5.ipynb\" target=\"_parent\"><img src=\"https://colab.research.google.com/assets/colab-badge.svg\" alt=\"Open In Colab\"/></a>"
      ]
    },
    {
      "cell_type": "markdown",
      "source": [
        "# Deep Learning Homework 5\n",
        "### 马艺宁 大数据 2019141210086"
      ],
      "metadata": {
        "id": "oeT4srS3YfbH"
      }
    },
    {
      "cell_type": "code",
      "source": [
        "import torch\n",
        "import torchvision\n",
        "import torchvision.transforms as transforms\n",
        "import torch.nn as nn\n",
        "import numpy as np\n",
        "import torch.nn.functional as F\n",
        "import matplotlib.pyplot as plt\n",
        "import torch.backends.cudnn as cudnn\n",
        "import os"
      ],
      "metadata": {
        "_uuid": "8f2839f25d086af736a60e9eeb907d3b93b6e0e5",
        "_cell_guid": "b1076dfc-b9ad-4769-8c92-a6c4dae69d19",
        "execution": {
          "iopub.status.busy": "2022-04-26T12:28:42.070122Z",
          "iopub.execute_input": "2022-04-26T12:28:42.070525Z",
          "iopub.status.idle": "2022-04-26T12:28:43.606276Z",
          "shell.execute_reply.started": "2022-04-26T12:28:42.070426Z",
          "shell.execute_reply": "2022-04-26T12:28:43.605421Z"
        },
        "trusted": true,
        "id": "3KO90-6yoghn"
      },
      "execution_count": 2,
      "outputs": []
    },
    {
      "cell_type": "code",
      "source": [
        "device = torch.device('cuda:0' if torch.cuda.is_available() else 'cpu')\n",
        "\n",
        "# Assuming that we are on a CUDA machine, this should print a CUDA device:\n",
        "\n",
        "print(device)"
      ],
      "metadata": {
        "execution": {
          "iopub.status.busy": "2022-04-26T12:28:43.849006Z",
          "iopub.execute_input": "2022-04-26T12:28:43.84932Z",
          "iopub.status.idle": "2022-04-26T12:28:43.902924Z",
          "shell.execute_reply.started": "2022-04-26T12:28:43.849286Z",
          "shell.execute_reply": "2022-04-26T12:28:43.90196Z"
        },
        "trusted": true,
        "colab": {
          "base_uri": "https://localhost:8080/",
          "height": 0
        },
        "id": "onuZMbZhoghs",
        "outputId": "b8559966-985b-450d-bcbf-1f791357695b"
      },
      "execution_count": 3,
      "outputs": [
        {
          "output_type": "stream",
          "name": "stdout",
          "text": [
            "cuda:0\n"
          ]
        }
      ]
    },
    {
      "cell_type": "markdown",
      "source": [
        "### (a) 首先对于训练集数据进行预处理，计算训练集图片的均值和方差，得到normalization constants."
      ],
      "metadata": {
        "id": "UWY8kAUVYtj3"
      }
    },
    {
      "cell_type": "code",
      "source": [
        "transform_try = transforms.ToTensor()\n",
        "\n",
        "trainset_try = torchvision.datasets.CIFAR10(root='./data', train=True, download=True, transform=transform_try)\n",
        "trainloader_try = torch.utils.data.DataLoader(trainset_try,batch_size=len(trainset_try), shuffle=True)"
      ],
      "metadata": {
        "execution": {
          "iopub.status.busy": "2022-04-26T12:28:48.252396Z",
          "iopub.execute_input": "2022-04-26T12:28:48.253404Z",
          "iopub.status.idle": "2022-04-26T12:29:04.636695Z",
          "shell.execute_reply.started": "2022-04-26T12:28:48.253357Z",
          "shell.execute_reply": "2022-04-26T12:29:04.635961Z"
        },
        "trusted": true,
        "colab": {
          "base_uri": "https://localhost:8080/",
          "height": 85,
          "referenced_widgets": [
            "1f19e3847d0e4211a3c2ab40426cf1b0",
            "3e7b3b6cdf474e9e8e154e0171e73c0e",
            "d29094c788944278ad5fb6d260e77ca9",
            "beb76f3a82df47b39468e65d62c62898",
            "bfe87efb5a1c4c45982610c3cbf45db5",
            "c257b66a601b49629248934ca18cdf28",
            "cb675f834d0c482c909e216733b83855",
            "f900629508eb492fbe3d87433b7b692f",
            "7322798ce8304032a5041dcdd2e5e6d8",
            "7d1e8f0421584042b60789e6146a568a",
            "9cc34fb9f86842568c4367ff1ca04f95"
          ]
        },
        "id": "2wUWqOnKoght",
        "outputId": "bbdd4565-3771-4923-adf4-24f71f6360a9"
      },
      "execution_count": 4,
      "outputs": [
        {
          "output_type": "stream",
          "name": "stdout",
          "text": [
            "Downloading https://www.cs.toronto.edu/~kriz/cifar-10-python.tar.gz to ./data/cifar-10-python.tar.gz\n"
          ]
        },
        {
          "output_type": "display_data",
          "data": {
            "text/plain": [
              "  0%|          | 0/170498071 [00:00<?, ?it/s]"
            ],
            "application/vnd.jupyter.widget-view+json": {
              "version_major": 2,
              "version_minor": 0,
              "model_id": "1f19e3847d0e4211a3c2ab40426cf1b0"
            }
          },
          "metadata": {}
        },
        {
          "output_type": "stream",
          "name": "stdout",
          "text": [
            "Extracting ./data/cifar-10-python.tar.gz to ./data\n"
          ]
        }
      ]
    },
    {
      "cell_type": "code",
      "source": [
        "train = iter(trainloader_try).next()[0]  \n",
        "train_mean = np.mean(train.numpy(), axis=(0, 2, 3))\n",
        "train_std = np.std(train.numpy(), axis=(0, 2, 3))\n",
        "\n",
        "print(\"train_mean:\",train_mean)\n",
        "print(\"train_std:\",train_std)"
      ],
      "metadata": {
        "execution": {
          "iopub.status.busy": "2022-04-26T12:29:04.638439Z",
          "iopub.execute_input": "2022-04-26T12:29:04.638704Z",
          "iopub.status.idle": "2022-04-26T12:29:11.71618Z",
          "shell.execute_reply.started": "2022-04-26T12:29:04.638669Z",
          "shell.execute_reply": "2022-04-26T12:29:11.715292Z"
        },
        "trusted": true,
        "colab": {
          "base_uri": "https://localhost:8080/",
          "height": 0
        },
        "id": "CuyZumaUoghv",
        "outputId": "34b284eb-1f73-43c4-892c-4265fae795de"
      },
      "execution_count": 5,
      "outputs": [
        {
          "output_type": "stream",
          "name": "stdout",
          "text": [
            "train_mean: [0.49139866 0.48215503 0.44652778]\n",
            "train_std: [0.24703248 0.24348569 0.26158887]\n"
          ]
        }
      ]
    },
    {
      "cell_type": "markdown",
      "source": [
        "### (b)-(f)   \n",
        "对训练集采用Padding4 - 随机裁剪到32*32 - 随机水平翻转 - 转化为张量 - 利用(a)中均值和方差标准化的transform方法，对于测试集采用转化为张量 - 利用训练集的均值和方差进行数据标准化的transform方法.进一步，建立ResNet18网络，并训练25个epoch."
      ],
      "metadata": {
        "id": "DNXZr24hZADx"
      }
    },
    {
      "cell_type": "code",
      "source": [
        "# Data\n",
        "print('==> Preparing data..')\n",
        "transform_train = transforms.Compose([\n",
        "    transforms.RandomCrop(32, padding=4),\n",
        "    transforms.RandomHorizontalFlip(),\n",
        "    transforms.ToTensor(),\n",
        "    transforms.Normalize((0.4914, 0.4822, 0.4465), (0.2470, 0.2435, 0.2616)),\n",
        "])\n",
        "\n",
        "transform_test = transforms.Compose([\n",
        "    transforms.ToTensor(),\n",
        "    transforms.Normalize((0.4914, 0.4822, 0.4465), (0.2470, 0.2435, 0.2616)),\n",
        "])\n",
        "\n",
        "\n",
        "trainset = torchvision.datasets.CIFAR10(root='./data',train=True, download=False, transform=transform_train)\n",
        "trainloader = torch.utils.data.DataLoader(trainset, batch_size=128, shuffle=True, num_workers=2)\n",
        "\n",
        "testset = torchvision.datasets.CIFAR10(root='./data',train=False, download=True, transform=transform_test)\n",
        "testloader = torch.utils.data.DataLoader(testset, batch_size=128, shuffle=False, num_workers=2)\n",
        "\n",
        "classes = ('plane', 'car', 'bird', 'cat', 'deer', 'dog', 'frog', 'horse', 'ship', 'truck')\n"
      ],
      "metadata": {
        "execution": {
          "iopub.status.busy": "2022-04-26T12:29:11.717824Z",
          "iopub.execute_input": "2022-04-26T12:29:11.718156Z",
          "iopub.status.idle": "2022-04-26T12:29:12.922784Z",
          "shell.execute_reply.started": "2022-04-26T12:29:11.718113Z",
          "shell.execute_reply": "2022-04-26T12:29:12.921971Z"
        },
        "trusted": true,
        "colab": {
          "base_uri": "https://localhost:8080/",
          "height": 0
        },
        "id": "okFZGwoKoghx",
        "outputId": "c851118c-ed6d-4209-be44-7b728a6f1360"
      },
      "execution_count": 6,
      "outputs": [
        {
          "output_type": "stream",
          "name": "stdout",
          "text": [
            "==> Preparing data..\n",
            "Files already downloaded and verified\n"
          ]
        }
      ]
    },
    {
      "cell_type": "code",
      "source": [
        "# Model\n",
        "print('==> Building model..')\n",
        "class BasicBlock(nn.Module):\n",
        "    expansion = 1\n",
        "\n",
        "    def __init__(self, in_planes, planes, stride=1):\n",
        "        super(BasicBlock, self).__init__()\n",
        "        self.conv1 = nn.Conv2d(in_planes, planes, kernel_size=3, stride=stride, padding=1, bias=False)\n",
        "        self.bn1 = nn.BatchNorm2d(planes)\n",
        "        self.conv2 = nn.Conv2d(planes, planes, kernel_size=3, stride=1, padding=1, bias=False)                              \n",
        "        self.bn2 = nn.BatchNorm2d(planes)\n",
        "\n",
        "        self.shortcut = nn.Sequential()\n",
        "        if stride != 1 or in_planes != self.expansion*planes:\n",
        "            self.shortcut = nn.Sequential(\n",
        "                nn.Conv2d(in_planes, self.expansion*planes,\n",
        "                          kernel_size=1, stride=stride, bias=False),\n",
        "                nn.BatchNorm2d(self.expansion*planes)\n",
        "            )\n",
        "\n",
        "    def forward(self, x):\n",
        "        out = F.relu(self.bn1(self.conv1(x)))\n",
        "        out = self.bn2(self.conv2(out))\n",
        "        out += self.shortcut(x)\n",
        "        out = F.relu(out)\n",
        "        return out\n",
        "\n",
        "\n",
        "class Bottleneck(nn.Module):\n",
        "    expansion = 4\n",
        "\n",
        "    def __init__(self, in_planes, planes, stride=1):\n",
        "        super(Bottleneck, self).__init__()\n",
        "        self.conv1 = nn.Conv2d(in_planes, planes, kernel_size=1, bias=False)\n",
        "        self.bn1 = nn.BatchNorm2d(planes)\n",
        "        self.conv2 = nn.Conv2d(planes, planes, kernel_size=3,\n",
        "                               stride=stride, padding=1, bias=False)\n",
        "        self.bn2 = nn.BatchNorm2d(planes)\n",
        "        self.conv3 = nn.Conv2d(planes, self.expansion *\n",
        "                               planes, kernel_size=1, bias=False)\n",
        "        self.bn3 = nn.BatchNorm2d(self.expansion*planes)\n",
        "\n",
        "        self.shortcut = nn.Sequential()\n",
        "        if stride != 1 or in_planes != self.expansion*planes:\n",
        "            self.shortcut = nn.Sequential(\n",
        "                nn.Conv2d(in_planes, self.expansion*planes,\n",
        "                          kernel_size=1, stride=stride, bias=False),\n",
        "                nn.BatchNorm2d(self.expansion*planes)\n",
        "            )\n",
        "\n",
        "    def forward(self, x):\n",
        "        out = F.relu(self.bn1(self.conv1(x)))\n",
        "        out = F.relu(self.bn2(self.conv2(out)))\n",
        "        out = self.bn3(self.conv3(out))\n",
        "        out += self.shortcut(x)\n",
        "        out = F.relu(out)\n",
        "        return out\n",
        "\n",
        "\n",
        "class ResNet(nn.Module):\n",
        "    def __init__(self, block, num_blocks, num_classes=10):\n",
        "        super(ResNet, self).__init__()\n",
        "        self.in_planes = 64\n",
        "\n",
        "        self.conv1 = nn.Conv2d(3, 64, kernel_size=3,stride=1, padding=1, bias=False)                               \n",
        "        self.bn1 = nn.BatchNorm2d(64)\n",
        "        self.layer1 = self._make_layer(block, 64, num_blocks[0], stride=1)\n",
        "        self.layer2 = self._make_layer(block, 128, num_blocks[1], stride=2)\n",
        "        self.layer3 = self._make_layer(block, 256, num_blocks[2], stride=2)\n",
        "        self.layer4 = self._make_layer(block, 512, num_blocks[3], stride=2)\n",
        "        self.linear = nn.Linear(512*block.expansion, num_classes)\n",
        "\n",
        "    def _make_layer(self, block, planes, num_blocks, stride):\n",
        "        strides = [stride] + [1]*(num_blocks-1)\n",
        "        layers = []\n",
        "        for stride in strides:\n",
        "            layers.append(block(self.in_planes, planes, stride))\n",
        "            self.in_planes = planes * block.expansion\n",
        "        return nn.Sequential(*layers)\n",
        "\n",
        "    def forward(self, x):\n",
        "        out = F.relu(self.bn1(self.conv1(x)))\n",
        "        out = self.layer1(out)\n",
        "        out = self.layer2(out)\n",
        "        out = self.layer3(out)\n",
        "        out = self.layer4(out)\n",
        "        out = F.avg_pool2d(out, 4)\n",
        "        out = out.view(out.size(0), -1)\n",
        "        out = self.linear(out)\n",
        "        return out\n",
        "\n",
        "\n",
        "def ResNet18():\n",
        "    return ResNet(BasicBlock, [2, 2, 2, 2])\n",
        "\n",
        "net = ResNet18()\n",
        "net = net.to(device)"
      ],
      "metadata": {
        "execution": {
          "iopub.status.busy": "2022-04-26T12:29:18.37623Z",
          "iopub.execute_input": "2022-04-26T12:29:18.376586Z",
          "iopub.status.idle": "2022-04-26T12:29:21.118881Z",
          "shell.execute_reply.started": "2022-04-26T12:29:18.376551Z",
          "shell.execute_reply": "2022-04-26T12:29:21.118061Z"
        },
        "trusted": true,
        "colab": {
          "base_uri": "https://localhost:8080/",
          "height": 0
        },
        "id": "JesiZpEToghz",
        "outputId": "b143864a-38c6-40da-8ecd-3c70dffe62af"
      },
      "execution_count": 7,
      "outputs": [
        {
          "output_type": "stream",
          "name": "stdout",
          "text": [
            "==> Building model..\n"
          ]
        }
      ]
    },
    {
      "cell_type": "code",
      "source": [
        "if device == 'cuda':\n",
        "    net = torch.nn.DataParallel(net)\n",
        "    cudnn.benchmark = True"
      ],
      "metadata": {
        "execution": {
          "iopub.status.busy": "2022-04-26T12:29:22.178937Z",
          "iopub.execute_input": "2022-04-26T12:29:22.179234Z",
          "iopub.status.idle": "2022-04-26T12:29:22.183447Z",
          "shell.execute_reply.started": "2022-04-26T12:29:22.179202Z",
          "shell.execute_reply": "2022-04-26T12:29:22.18254Z"
        },
        "trusted": true,
        "id": "2UxonQTeogh3"
      },
      "execution_count": 8,
      "outputs": []
    },
    {
      "cell_type": "code",
      "source": [
        "import torch.optim as optim\n",
        "criterion = nn.CrossEntropyLoss()\n",
        "# optimizer = optim.Adam(net.parameters(), lr=0.001)\n",
        "optimizer = optim.SGD(net.parameters(), lr=0.001,\n",
        "                      momentum=0.9, weight_decay=5e-4)\n",
        "# scheduler = torch.optim.lr_scheduler.CosineAnnealingLR(optimizer, T_max=200)"
      ],
      "metadata": {
        "execution": {
          "iopub.status.busy": "2022-04-25T11:53:35.159516Z",
          "iopub.execute_input": "2022-04-25T11:53:35.159797Z",
          "iopub.status.idle": "2022-04-25T11:53:35.166676Z",
          "shell.execute_reply.started": "2022-04-25T11:53:35.159766Z",
          "shell.execute_reply": "2022-04-25T11:53:35.165635Z"
        },
        "trusted": true,
        "id": "kpirwqLrogh4"
      },
      "execution_count": 15,
      "outputs": []
    },
    {
      "cell_type": "code",
      "source": [
        "# Training\n",
        "def train(epoch):\n",
        "    print('\\nEpoch: %d' % epoch)\n",
        "    net.train()\n",
        "    train_loss = 0\n",
        "    correct = 0\n",
        "    total = 0\n",
        "    for batch_idx, (inputs, targets) in enumerate(trainloader):\n",
        "        inputs, targets = inputs.to(device), targets.to(device)\n",
        "        optimizer.zero_grad()\n",
        "        outputs = net(inputs)\n",
        "        loss = criterion(outputs, targets)\n",
        "        loss.backward()\n",
        "        optimizer.step()\n",
        "\n",
        "        train_loss += loss.item()\n",
        "        _, predicted = outputs.max(1)\n",
        "        total += targets.size(0)\n",
        "        correct += predicted.eq(targets).sum().item()\n",
        "\n",
        "        # progress_bar(batch_idx, len(trainloader), 'Loss: %.3f | Acc: %.3f%% (%d/%d)'\n",
        "        #              % (train_loss/(batch_idx+1), 100.*correct/total, correct, total))\n",
        "    print('Loss: %.3f | Acc: %.3f%% (%d/%d)'\n",
        "                     % (train_loss/(batch_idx+1), 100.*correct/total, correct, total))"
      ],
      "metadata": {
        "execution": {
          "iopub.status.busy": "2022-04-25T11:53:38.550854Z",
          "iopub.execute_input": "2022-04-25T11:53:38.551656Z",
          "iopub.status.idle": "2022-04-25T11:53:38.560767Z",
          "shell.execute_reply.started": "2022-04-25T11:53:38.551615Z",
          "shell.execute_reply": "2022-04-25T11:53:38.559197Z"
        },
        "trusted": true,
        "id": "XwZR6P_Togh5"
      },
      "execution_count": 11,
      "outputs": []
    },
    {
      "cell_type": "code",
      "source": [
        "def test(epoch):\n",
        "    global best_acc\n",
        "    net.eval()\n",
        "    test_loss = 0\n",
        "    correct = 0\n",
        "    total = 0\n",
        "    with torch.no_grad():\n",
        "        for batch_idx, (inputs, targets) in enumerate(testloader):\n",
        "            inputs, targets = inputs.to(device), targets.to(device)\n",
        "            outputs = net(inputs)\n",
        "            loss = criterion(outputs, targets)\n",
        "\n",
        "            test_loss += loss.item()\n",
        "            _, predicted = outputs.max(1)\n",
        "            total += targets.size(0)\n",
        "            correct += predicted.eq(targets).sum().item()\n",
        "\n",
        "    print('Loss: %.3f | Acc: %.3f%% (%d/%d)'\n",
        "                         % (test_loss/(batch_idx+1), 100.*correct/total, correct, total))"
      ],
      "metadata": {
        "execution": {
          "iopub.status.busy": "2022-04-25T11:19:39.102303Z",
          "iopub.execute_input": "2022-04-25T11:19:39.102591Z",
          "iopub.status.idle": "2022-04-25T11:19:39.111413Z",
          "shell.execute_reply.started": "2022-04-25T11:19:39.102561Z",
          "shell.execute_reply": "2022-04-25T11:19:39.109946Z"
        },
        "trusted": true,
        "id": "tGHo2SKUogh7"
      },
      "execution_count": 12,
      "outputs": []
    },
    {
      "cell_type": "code",
      "source": [
        "for epoch in range(25):\n",
        "  train(epoch)\n",
        "  test(epoch)"
      ],
      "metadata": {
        "execution": {
          "iopub.status.busy": "2022-04-25T11:53:44.293056Z",
          "iopub.execute_input": "2022-04-25T11:53:44.293764Z",
          "iopub.status.idle": "2022-04-25T12:28:28.089908Z",
          "shell.execute_reply.started": "2022-04-25T11:53:44.29373Z",
          "shell.execute_reply": "2022-04-25T12:28:28.088857Z"
        },
        "trusted": true,
        "colab": {
          "base_uri": "https://localhost:8080/",
          "height": 0
        },
        "id": "jgxJXoYUogh8",
        "outputId": "4fcb6717-845f-41de-804f-b524264fee85"
      },
      "execution_count": 17,
      "outputs": [
        {
          "output_type": "stream",
          "name": "stdout",
          "text": [
            "\n",
            "Epoch: 0\n",
            "Loss: 0.335 | Acc: 88.538% (44269/50000)\n",
            "Loss: 0.383 | Acc: 87.150% (8715/10000)\n",
            "\n",
            "Epoch: 1\n",
            "Loss: 0.312 | Acc: 89.288% (44644/50000)\n",
            "Loss: 0.376 | Acc: 87.460% (8746/10000)\n",
            "\n",
            "Epoch: 2\n",
            "Loss: 0.305 | Acc: 89.580% (44790/50000)\n",
            "Loss: 0.374 | Acc: 87.730% (8773/10000)\n",
            "\n",
            "Epoch: 3\n",
            "Loss: 0.298 | Acc: 89.840% (44920/50000)\n",
            "Loss: 0.367 | Acc: 87.710% (8771/10000)\n",
            "\n",
            "Epoch: 4\n",
            "Loss: 0.292 | Acc: 89.896% (44948/50000)\n",
            "Loss: 0.365 | Acc: 87.970% (8797/10000)\n",
            "\n",
            "Epoch: 5\n",
            "Loss: 0.287 | Acc: 90.166% (45083/50000)\n",
            "Loss: 0.363 | Acc: 88.140% (8814/10000)\n",
            "\n",
            "Epoch: 6\n",
            "Loss: 0.285 | Acc: 90.374% (45187/50000)\n",
            "Loss: 0.364 | Acc: 88.040% (8804/10000)\n",
            "\n",
            "Epoch: 7\n",
            "Loss: 0.280 | Acc: 90.202% (45101/50000)\n",
            "Loss: 0.365 | Acc: 88.060% (8806/10000)\n",
            "\n",
            "Epoch: 8\n",
            "Loss: 0.280 | Acc: 90.372% (45186/50000)\n",
            "Loss: 0.358 | Acc: 88.290% (8829/10000)\n",
            "\n",
            "Epoch: 9\n",
            "Loss: 0.275 | Acc: 90.482% (45241/50000)\n",
            "Loss: 0.358 | Acc: 88.230% (8823/10000)\n",
            "\n",
            "Epoch: 10\n",
            "Loss: 0.275 | Acc: 90.580% (45290/50000)\n",
            "Loss: 0.358 | Acc: 88.320% (8832/10000)\n",
            "\n",
            "Epoch: 11\n",
            "Loss: 0.269 | Acc: 90.784% (45392/50000)\n",
            "Loss: 0.355 | Acc: 88.390% (8839/10000)\n",
            "\n",
            "Epoch: 12\n",
            "Loss: 0.271 | Acc: 90.642% (45321/50000)\n",
            "Loss: 0.354 | Acc: 88.380% (8838/10000)\n",
            "\n",
            "Epoch: 13\n",
            "Loss: 0.268 | Acc: 90.758% (45379/50000)\n",
            "Loss: 0.353 | Acc: 88.210% (8821/10000)\n",
            "\n",
            "Epoch: 14\n",
            "Loss: 0.268 | Acc: 90.848% (45424/50000)\n",
            "Loss: 0.353 | Acc: 88.530% (8853/10000)\n",
            "\n",
            "Epoch: 15\n",
            "Loss: 0.265 | Acc: 90.860% (45430/50000)\n",
            "Loss: 0.358 | Acc: 88.180% (8818/10000)\n",
            "\n",
            "Epoch: 16\n",
            "Loss: 0.262 | Acc: 91.090% (45545/50000)\n",
            "Loss: 0.353 | Acc: 88.440% (8844/10000)\n",
            "\n",
            "Epoch: 17\n",
            "Loss: 0.259 | Acc: 91.084% (45542/50000)\n",
            "Loss: 0.355 | Acc: 88.470% (8847/10000)\n",
            "\n",
            "Epoch: 18\n",
            "Loss: 0.259 | Acc: 91.094% (45547/50000)\n",
            "Loss: 0.353 | Acc: 88.570% (8857/10000)\n",
            "\n",
            "Epoch: 19\n",
            "Loss: 0.259 | Acc: 91.132% (45566/50000)\n",
            "Loss: 0.353 | Acc: 88.610% (8861/10000)\n",
            "\n",
            "Epoch: 20\n",
            "Loss: 0.256 | Acc: 91.154% (45577/50000)\n",
            "Loss: 0.349 | Acc: 88.600% (8860/10000)\n",
            "\n",
            "Epoch: 21\n",
            "Loss: 0.256 | Acc: 91.198% (45599/50000)\n",
            "Loss: 0.353 | Acc: 88.470% (8847/10000)\n",
            "\n",
            "Epoch: 22\n",
            "Loss: 0.254 | Acc: 91.172% (45586/50000)\n",
            "Loss: 0.349 | Acc: 88.640% (8864/10000)\n",
            "\n",
            "Epoch: 23\n",
            "Loss: 0.253 | Acc: 91.216% (45608/50000)\n",
            "Loss: 0.351 | Acc: 88.420% (8842/10000)\n",
            "\n",
            "Epoch: 24\n",
            "Loss: 0.250 | Acc: 91.354% (45677/50000)\n",
            "Loss: 0.350 | Acc: 88.640% (8864/10000)\n"
          ]
        }
      ]
    },
    {
      "cell_type": "markdown",
      "source": [
        "#### 最终我们可以得到ResNet18的训练结果：在训练集上的损失为**0.250**，准确率**91.354%**； 在测试集上损失为**0.350**，准确率为**88.640%**(>75%)."
      ],
      "metadata": {
        "id": "odTkmrbQbOPp"
      }
    },
    {
      "cell_type": "markdown",
      "source": [
        "### (g)   \n",
        "我们知道，在一般情况下神经网络的深度越深（但非过拟合），学习效果越好. 我尝试了VGG16，同样印证了上述结论. 而相比于ResNet50和ResNet18, ResNet34综合了训练时间更短和深度更深的优点. 经过尝试不同的模型和参数，我最终选定了ResNet34进行训练，且为防止过拟合，选择epoch=28."
      ],
      "metadata": {
        "id": "Ri0vXozbogh9"
      }
    },
    {
      "cell_type": "code",
      "source": [
        "def ResNet34():\n",
        "    return ResNet(BasicBlock, [3, 4, 6, 3])\n",
        "\n",
        "net = ResNet34()\n",
        "net = net.to(device)"
      ],
      "metadata": {
        "execution": {
          "iopub.status.busy": "2022-04-26T12:29:34.692036Z",
          "iopub.execute_input": "2022-04-26T12:29:34.692323Z",
          "iopub.status.idle": "2022-04-26T12:29:34.912601Z",
          "shell.execute_reply.started": "2022-04-26T12:29:34.692294Z",
          "shell.execute_reply": "2022-04-26T12:29:34.911818Z"
        },
        "trusted": true,
        "id": "MEKrqPgdogh_"
      },
      "execution_count": 18,
      "outputs": []
    },
    {
      "cell_type": "code",
      "source": [
        "import torch.optim as optim\n",
        "criterion = nn.CrossEntropyLoss()\n",
        "# optimizer = optim.SGD(net.parameters(), lr=0.001,\n",
        "#                       momentum=0.9, weight_decay=5e-4)\n",
        "optimizer = optim.Adam(net.parameters(), lr=0.001)\n",
        "# scheduler = torch.optim.lr_scheduler.CosineAnnealingLR(optimizer, T_max=200)"
      ],
      "metadata": {
        "execution": {
          "iopub.status.busy": "2022-04-26T12:29:36.346125Z",
          "iopub.execute_input": "2022-04-26T12:29:36.3467Z",
          "iopub.status.idle": "2022-04-26T12:29:36.351696Z",
          "shell.execute_reply.started": "2022-04-26T12:29:36.346658Z",
          "shell.execute_reply": "2022-04-26T12:29:36.350834Z"
        },
        "trusted": true,
        "id": "sFtJaY6BogiA"
      },
      "execution_count": 19,
      "outputs": []
    },
    {
      "cell_type": "code",
      "source": [
        "# Training\n",
        "def train(epoch):\n",
        "    print('\\nEpoch: %d' % epoch)\n",
        "    net.train()\n",
        "    train_loss = 0\n",
        "    correct = 0\n",
        "    total = 0\n",
        "    for batch_idx, (inputs, targets) in enumerate(trainloader):\n",
        "        inputs, targets = inputs.to(device), targets.to(device)\n",
        "        optimizer.zero_grad()\n",
        "        outputs = net(inputs)\n",
        "        loss = criterion(outputs, targets)\n",
        "        loss.backward()\n",
        "        optimizer.step()\n",
        "\n",
        "        train_loss += loss.item()\n",
        "        _, predicted = outputs.max(1)\n",
        "        total += targets.size(0)\n",
        "        correct += predicted.eq(targets).sum().item()\n",
        "\n",
        "        # progress_bar(batch_idx, len(trainloader), 'Loss: %.3f | Acc: %.3f%% (%d/%d)'\n",
        "        #              % (train_loss/(batch_idx+1), 100.*correct/total, correct, total))\n",
        "    print('Loss: %.3f | Acc: %.3f%% (%d/%d)'\n",
        "                     % (train_loss/(batch_idx+1), 100.*correct/total, correct, total))\n",
        "    \n",
        "def test(epoch):\n",
        "    global best_acc\n",
        "    net.eval()\n",
        "    test_loss = 0\n",
        "    correct = 0\n",
        "    total = 0\n",
        "    with torch.no_grad():\n",
        "        for batch_idx, (inputs, targets) in enumerate(testloader):\n",
        "            inputs, targets = inputs.to(device), targets.to(device)\n",
        "            outputs = net(inputs)\n",
        "            loss = criterion(outputs, targets)\n",
        "\n",
        "            test_loss += loss.item()\n",
        "            _, predicted = outputs.max(1)\n",
        "            total += targets.size(0)\n",
        "            correct += predicted.eq(targets).sum().item()\n",
        "\n",
        "    print('Loss: %.3f | Acc: %.3f%% (%d/%d)'\n",
        "                         % (test_loss/(batch_idx+1), 100.*correct/total, correct, total))"
      ],
      "metadata": {
        "execution": {
          "iopub.status.busy": "2022-04-26T12:29:39.230361Z",
          "iopub.execute_input": "2022-04-26T12:29:39.230638Z",
          "iopub.status.idle": "2022-04-26T12:29:39.267161Z",
          "shell.execute_reply.started": "2022-04-26T12:29:39.230604Z",
          "shell.execute_reply": "2022-04-26T12:29:39.266327Z"
        },
        "trusted": true,
        "id": "J9L-vaouogiB"
      },
      "execution_count": 20,
      "outputs": []
    },
    {
      "cell_type": "code",
      "source": [
        "for epoch in range(28):\n",
        "  train(epoch)\n",
        "  test(epoch)"
      ],
      "metadata": {
        "execution": {
          "iopub.status.busy": "2022-04-26T12:29:40.712356Z",
          "iopub.execute_input": "2022-04-26T12:29:40.712933Z",
          "iopub.status.idle": "2022-04-26T13:02:56.175286Z",
          "shell.execute_reply.started": "2022-04-26T12:29:40.712892Z",
          "shell.execute_reply": "2022-04-26T13:02:56.174022Z"
        },
        "trusted": true,
        "colab": {
          "base_uri": "https://localhost:8080/",
          "height": 0
        },
        "id": "5KOMzyMeogiD",
        "outputId": "f278629d-54e5-4ba9-e55e-46b6cb75e6bf"
      },
      "execution_count": 21,
      "outputs": [
        {
          "output_type": "stream",
          "name": "stdout",
          "text": [
            "\n",
            "Epoch: 0\n",
            "Loss: 1.638 | Acc: 39.170% (19585/50000)\n",
            "Loss: 1.386 | Acc: 50.120% (5012/10000)\n",
            "\n",
            "Epoch: 1\n",
            "Loss: 1.155 | Acc: 58.160% (29080/50000)\n",
            "Loss: 1.092 | Acc: 62.360% (6236/10000)\n",
            "\n",
            "Epoch: 2\n",
            "Loss: 0.929 | Acc: 67.012% (33506/50000)\n",
            "Loss: 0.974 | Acc: 68.200% (6820/10000)\n",
            "\n",
            "Epoch: 3\n",
            "Loss: 0.778 | Acc: 72.520% (36260/50000)\n",
            "Loss: 0.760 | Acc: 73.860% (7386/10000)\n",
            "\n",
            "Epoch: 4\n",
            "Loss: 0.662 | Acc: 76.968% (38484/50000)\n",
            "Loss: 0.677 | Acc: 77.170% (7717/10000)\n",
            "\n",
            "Epoch: 5\n",
            "Loss: 0.566 | Acc: 80.336% (40168/50000)\n",
            "Loss: 0.689 | Acc: 76.470% (7647/10000)\n",
            "\n",
            "Epoch: 6\n",
            "Loss: 0.506 | Acc: 82.484% (41242/50000)\n",
            "Loss: 0.542 | Acc: 81.910% (8191/10000)\n",
            "\n",
            "Epoch: 7\n",
            "Loss: 0.445 | Acc: 84.464% (42232/50000)\n",
            "Loss: 0.545 | Acc: 82.790% (8279/10000)\n",
            "\n",
            "Epoch: 8\n",
            "Loss: 0.401 | Acc: 86.060% (43030/50000)\n",
            "Loss: 0.549 | Acc: 81.740% (8174/10000)\n",
            "\n",
            "Epoch: 9\n",
            "Loss: 0.376 | Acc: 86.982% (43491/50000)\n",
            "Loss: 0.391 | Acc: 87.450% (8745/10000)\n",
            "\n",
            "Epoch: 10\n",
            "Loss: 0.353 | Acc: 87.670% (43835/50000)\n",
            "Loss: 0.433 | Acc: 86.020% (8602/10000)\n",
            "\n",
            "Epoch: 11\n",
            "Loss: 0.318 | Acc: 88.936% (44468/50000)\n",
            "Loss: 0.424 | Acc: 86.390% (8639/10000)\n",
            "\n",
            "Epoch: 12\n",
            "Loss: 0.315 | Acc: 89.208% (44604/50000)\n",
            "Loss: 0.472 | Acc: 85.500% (8550/10000)\n",
            "\n",
            "Epoch: 13\n",
            "Loss: 0.277 | Acc: 90.340% (45170/50000)\n",
            "Loss: 0.380 | Acc: 87.770% (8777/10000)\n",
            "\n",
            "Epoch: 14\n",
            "Loss: 0.249 | Acc: 91.296% (45648/50000)\n",
            "Loss: 0.388 | Acc: 88.000% (8800/10000)\n",
            "\n",
            "Epoch: 15\n",
            "Loss: 0.229 | Acc: 91.980% (45990/50000)\n",
            "Loss: 0.439 | Acc: 86.540% (8654/10000)\n",
            "\n",
            "Epoch: 16\n",
            "Loss: 0.218 | Acc: 92.264% (46132/50000)\n",
            "Loss: 0.365 | Acc: 88.370% (8837/10000)\n",
            "\n",
            "Epoch: 17\n",
            "Loss: 0.211 | Acc: 92.604% (46302/50000)\n",
            "Loss: 0.488 | Acc: 85.480% (8548/10000)\n",
            "\n",
            "Epoch: 18\n",
            "Loss: 0.238 | Acc: 91.812% (45906/50000)\n",
            "Loss: 0.336 | Acc: 89.430% (8943/10000)\n",
            "\n",
            "Epoch: 19\n",
            "Loss: 0.179 | Acc: 93.804% (46902/50000)\n",
            "Loss: 0.318 | Acc: 89.830% (8983/10000)\n",
            "\n",
            "Epoch: 20\n",
            "Loss: 0.161 | Acc: 94.342% (47171/50000)\n",
            "Loss: 0.324 | Acc: 90.010% (9001/10000)\n",
            "\n",
            "Epoch: 21\n",
            "Loss: 0.150 | Acc: 94.696% (47348/50000)\n",
            "Loss: 0.356 | Acc: 89.710% (8971/10000)\n",
            "\n",
            "Epoch: 22\n",
            "Loss: 0.141 | Acc: 95.032% (47516/50000)\n",
            "Loss: 0.349 | Acc: 90.160% (9016/10000)\n",
            "\n",
            "Epoch: 23\n",
            "Loss: 0.137 | Acc: 95.110% (47555/50000)\n",
            "Loss: 0.410 | Acc: 88.370% (8837/10000)\n",
            "\n",
            "Epoch: 24\n",
            "Loss: 0.133 | Acc: 95.372% (47686/50000)\n",
            "Loss: 0.354 | Acc: 89.880% (8988/10000)\n",
            "\n",
            "Epoch: 25\n",
            "Loss: 0.119 | Acc: 95.698% (47849/50000)\n",
            "Loss: 0.344 | Acc: 90.860% (9086/10000)\n",
            "\n",
            "Epoch: 26\n",
            "Loss: 0.108 | Acc: 96.178% (48089/50000)\n",
            "Loss: 0.410 | Acc: 89.120% (8912/10000)\n",
            "\n",
            "Epoch: 27\n",
            "Loss: 0.103 | Acc: 96.350% (48175/50000)\n",
            "Loss: 0.365 | Acc: 90.570% (9057/10000)\n"
          ]
        }
      ]
    },
    {
      "cell_type": "markdown",
      "source": [
        "值得注意的是，此模型训练时间较长，几乎为前一个模型的2倍. 因此，虽然经实验发现继续增加epoch（如取epoch=50）时模型的结果会进一步提升，但是提升幅度较小（<1%)且训练所用时间会更长，这是得不偿失的.   \n",
        "  \n"
      ],
      "metadata": {
        "id": "-y5w_893czql"
      }
    },
    {
      "cell_type": "markdown",
      "source": [
        "### 最终我们可以得到ResNet34的训练结果：在训练集上的损失为**0.103**，准确率**96.350%**； 在测试集上损失为**0.365**，准确率为**90.570%**(>90%)，模型的效果较好. "
      ],
      "metadata": {
        "id": "N0SP17DleBFG"
      }
    }
  ]
}